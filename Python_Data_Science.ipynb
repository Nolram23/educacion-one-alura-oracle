{
  "nbformat": 4,
  "nbformat_minor": 0,
  "metadata": {
    "colab": {
      "provenance": [],
      "include_colab_link": true
    },
    "kernelspec": {
      "name": "python3",
      "display_name": "Python 3"
    },
    "language_info": {
      "name": "python"
    }
  },
  "cells": [
    {
      "cell_type": "markdown",
      "metadata": {
        "id": "view-in-github",
        "colab_type": "text"
      },
      "source": [
        "<a href=\"https://colab.research.google.com/github/Nolram23/educacion-one-alura-oracle/blob/main/Python_Data_Science.ipynb\" target=\"_parent\"><img src=\"https://colab.research.google.com/assets/colab-badge.svg\" alt=\"Open In Colab\"/></a>"
      ]
    },
    {
      "cell_type": "markdown",
      "source": [
        "# Python para Data Science\n",
        "\n",
        "Notebook para el curso de Python para Data Science publicado en la plataforma de [Alura Latam](https://www.aluracursos.com/)"
      ],
      "metadata": {
        "id": "lQx6Mmv0OJyT"
      }
    },
    {
      "cell_type": "markdown",
      "source": [
        "# Introducción a Python\n",
        "¡Vamos a conocer Python, nuestro ambiente de estudio, y también generaremos nuestro primer código en este lenguaje!"
      ],
      "metadata": {
        "id": "7SiB6JIpYKmY"
      }
    },
    {
      "cell_type": "markdown",
      "source": [
        "## Google Colaboratory\n",
        "\n",
        "Ya aprendimos qué es [Python](https://www.python.org/) y ahora aprenderemos a usar nuestra herramienta de ejecución [Google Colaboratory](https://colab.research.google.com/) para programar en un notebook interactivo.\n",
        "\n",
        "Vamos a probar algunas funciones de este ambiente."
      ],
      "metadata": {
        "id": "Yugfb3fCOYY9"
      }
    },
    {
      "cell_type": "markdown",
      "source": [
        " **`>>> Usa esta celda para mover <<<`**"
      ],
      "metadata": {
        "id": "2iUHQsJasJAk"
      }
    },
    {
      "cell_type": "code",
      "source": [],
      "metadata": {
        "id": "o7jrX_iKhdkU"
      },
      "execution_count": null,
      "outputs": []
    },
    {
      "cell_type": "markdown",
      "source": [
        "## ¡Hola mundo!\n",
        "\n",
        "Vamos a conocer un poco más de cerca nuestro notebook. Para ello ejecutaremos nuestro primer comando en Python: [`print()`](https://docs.python.org/3/library/functions.html#print)"
      ],
      "metadata": {
        "id": "aLSFP2V7XTfe"
      }
    },
    {
      "cell_type": "code",
      "source": [
        "print ( 'Hola mundo')"
      ],
      "metadata": {
        "id": "0qZX8_ZQBYyk",
        "colab": {
          "base_uri": "https://localhost:8080/"
        },
        "outputId": "17e7fd5e-da5f-4787-f093-a7c955bd26dc"
      },
      "execution_count": null,
      "outputs": [
        {
          "output_type": "stream",
          "name": "stdout",
          "text": [
            "Hola mundo\n"
          ]
        }
      ]
    },
    {
      "cell_type": "markdown",
      "source": [
        "# Manipulando los datos\n",
        "\n",
        "Vamos a aprender sobre las variables en Python, cómo declararlas y utilizarlas además de conocer otros comandos de este lenguaje. :D"
      ],
      "metadata": {
        "id": "iP8uWQmFYFRs"
      }
    },
    {
      "cell_type": "code",
      "source": [
        "print('Escuela de Datos de Alura');\n",
        "nombre = 'Marlon';\n",
        "apellido = 'Miranda';\n",
        "for letra in nombre: print(letra);\n",
        "\n",
        "import datetime;\n",
        "año = datetime.date.today().year;\n",
        "mes = {\n",
        "    1: \"enero\", 2: \"febrero\", 3: \"marzo\", 4: \"abril\",\n",
        "    5: \"mayo\", 6: \"junio\", 7: \"julio\", 8: \"agosto\",\n",
        "    9: \"septiembre\", 10: \"octubre\", 11: \"noviembre\", 12: \"diciembre\"\n",
        "}\n",
        "fecha = datetime.date(1993, 5, 23);\n",
        "mes_en_letras = mes[fecha.month];\n",
        "print('mi fecha de cumpleaños es: ' f\"{fecha.day} de {mes_en_letras} de {fecha.year}\");\n",
        "print('año actual: ',año);\n",
        "\n"
      ],
      "metadata": {
        "colab": {
          "base_uri": "https://localhost:8080/"
        },
        "id": "wpU_OTWlZD9E",
        "outputId": "5ab96782-34ed-40b0-fb8b-dabd2d98524e"
      },
      "execution_count": null,
      "outputs": [
        {
          "output_type": "stream",
          "name": "stdout",
          "text": [
            "Escuela de Datos de Alura\n",
            "M\n",
            "a\n",
            "r\n",
            "l\n",
            "o\n",
            "n\n",
            "mi fecha de cumpleaños es: 23 de mayo de 1993\n",
            "año actual:  2025\n"
          ]
        }
      ]
    },
    {
      "cell_type": "markdown",
      "source": [
        "## Variables\n",
        "\n",
        "En Data Science trabajamos con varios tipos de datos e informaciones, entonces es esencial saber cómo trabajar con las variables."
      ],
      "metadata": {
        "id": "sLNVmnTbag1Z"
      }
    },
    {
      "cell_type": "markdown",
      "source": [
        "Las variables en Python se crean cuando atribuimos un valor a ella.\n",
        "\n",
        "Para esto, colocamos el nombre de la variable, el signo de igual (`=`) y el valor que queremos atribuirle."
      ],
      "metadata": {
        "id": "lsCY0wahAbf6"
      }
    },
    {
      "cell_type": "markdown",
      "source": [
        "Existen algunos tipos de nomes que **no** podemos definir para las variables:\n",
        "\n",
        "- **Nombres que comiencen con números**\n",
        "  - Ejemplos: `10_notas`, `2_nombre_casa`, etc.\n",
        "- **Palabras separadas por espacio**\n",
        "  - Ejemplos: `Nombre escuela`, `notas estudiantes`, etc.\n",
        "- **Nombres de funciones de Python**\n",
        "  - Ejemplos: `print`, `type`, etc."
      ],
      "metadata": {
        "id": "om2N0jHKAzwL"
      }
    },
    {
      "cell_type": "markdown",
      "source": [
        "> Las letras mayúsculas y minúsculas generarán diferentes variables. La variable `edad` es diferente de `Edad` que a su vez es diferente de `EDAD`:\n",
        "``` Python\n",
        "edad = 1\n",
        "Edad = 2\n",
        "EDAD = 3\n",
        "_edad = 4\n",
        "_edad_ = 5\n",
        "print(edad, Edad, EDAD, _edad, _edad_)\n",
        "1 2 3 4 5\n",
        "```"
      ],
      "metadata": {
        "id": "A19vY2GVMujB"
      }
    },
    {
      "cell_type": "markdown",
      "source": [
        "## Tipos de variables\n",
        "\n",
        "Cada variable contiene una clase específica con respecto al tipo de objeto al cual esta hace referencia. Estas clases serán diferentes de acuerdo con el tipo de dato que le sea atribuido a una variable.\n",
        "\n",
        "Para conocer la clase de cada elemento usamos la función [`type()`](https://docs.python.org/3/library/functions.html#type)"
      ],
      "metadata": {
        "id": "UqhzuBhBHsps"
      }
    },
    {
      "cell_type": "code",
      "source": [
        "# Este es un comentario de una línea\n",
        "print(10) # Podemos colocar otro comentario en una línea después de un código\n",
        "\"\"\"\n",
        "Este es un comentario\n",
        "de varias líneas.\n",
        "\"\"\"\n",
        "\n",
        "numero = 5\n",
        "type (numero)\n",
        "\n"
      ],
      "metadata": {
        "id": "vsHh5buZADND",
        "colab": {
          "base_uri": "https://localhost:8080/"
        },
        "outputId": "51e1dd5b-aa77-4fb6-b2a4-2d3b02bdec47"
      },
      "execution_count": null,
      "outputs": [
        {
          "output_type": "stream",
          "name": "stdout",
          "text": [
            "10\n"
          ]
        },
        {
          "output_type": "execute_result",
          "data": {
            "text/plain": [
              "int"
            ]
          },
          "metadata": {},
          "execution_count": 35
        }
      ]
    },
    {
      "cell_type": "code",
      "source": [
        "promedio = 9.5\n",
        "type (promedio)\n"
      ],
      "metadata": {
        "id": "sivPtqSjADQV",
        "colab": {
          "base_uri": "https://localhost:8080/"
        },
        "outputId": "c13a0f4c-af4d-4cda-d819-50cccb547b99"
      },
      "execution_count": null,
      "outputs": [
        {
          "output_type": "execute_result",
          "data": {
            "text/plain": [
              "float"
            ]
          },
          "metadata": {},
          "execution_count": 36
        }
      ]
    },
    {
      "cell_type": "code",
      "source": [
        "nombre = 'Marlon'\n",
        "type (nombre)"
      ],
      "metadata": {
        "id": "JC8jO47wADlm",
        "colab": {
          "base_uri": "https://localhost:8080/"
        },
        "outputId": "05d1a162-56a6-4fc9-c402-7abf6690e07e"
      },
      "execution_count": null,
      "outputs": [
        {
          "output_type": "execute_result",
          "data": {
            "text/plain": [
              "str"
            ]
          },
          "metadata": {},
          "execution_count": 37
        }
      ]
    },
    {
      "cell_type": "code",
      "source": [
        "v = True\n",
        "type (v)"
      ],
      "metadata": {
        "colab": {
          "base_uri": "https://localhost:8080/"
        },
        "id": "inBUJsi4pIgR",
        "outputId": "858e7863-8e84-4781-d8d1-1410f9368865"
      },
      "execution_count": null,
      "outputs": [
        {
          "output_type": "execute_result",
          "data": {
            "text/plain": [
              "bool"
            ]
          },
          "metadata": {},
          "execution_count": 38
        }
      ]
    },
    {
      "cell_type": "code",
      "source": [],
      "metadata": {
        "id": "J5a9t73A_-PX"
      },
      "execution_count": null,
      "outputs": []
    },
    {
      "cell_type": "markdown",
      "source": [
        "En un conjunto de datos escolares podemos tener varios tipos de informaciones. Supongamos que tenemos acceso a la ficha de datos del alumno *Penélope Camacho*, cómo transformamos este nombre en variables de Python?\n",
        "\n",
        "#### Ficha:\n",
        "\n",
        "- Nombre: Penélope Camacho\n",
        "- Edad: 11 años\n",
        "- Promedio del semestre: 9,75\n",
        "- Situación de aprobación: Verdadera (aprobado)"
      ],
      "metadata": {
        "id": "O-FxDumfWu0C"
      }
    },
    {
      "cell_type": "code",
      "source": [
        "nombre_estudiante = 'Penélope Camacho'\n",
        "edad_estudiante = 11\n",
        "promedio_estudiante = 9.75\n",
        "aprobado =  True\n",
        "\n",
        "print (nombre_estudiante, edad_estudiante, promedio_estudiante, aprobado)\n",
        "print (type(nombre_estudiante), type(edad_estudiante), type(promedio_estudiante), type(aprobado))"
      ],
      "metadata": {
        "id": "FabQ7jQf_8Xt",
        "colab": {
          "base_uri": "https://localhost:8080/"
        },
        "outputId": "2cb983f4-eefe-4ba2-de7d-b01ab09677bb"
      },
      "execution_count": null,
      "outputs": [
        {
          "output_type": "stream",
          "name": "stdout",
          "text": [
            "Penélope Camacho 11 9.75 True\n",
            "<class 'str'> <class 'int'> <class 'float'> <class 'bool'>\n"
          ]
        }
      ]
    },
    {
      "cell_type": "code",
      "source": [],
      "metadata": {
        "id": "IZLQnZUj_8bd"
      },
      "execution_count": null,
      "outputs": []
    },
    {
      "cell_type": "markdown",
      "source": [
        "## Variables numéricas\n",
        "\n",
        "Entre los tipos de datos numéricos vamos a enfocarnos en los tipos `entero` y `float`."
      ],
      "metadata": {
        "id": "KFq_8Sxf-OG0"
      }
    },
    {
      "cell_type": "markdown",
      "source": [
        "Tenemos una tabla de información sobre los diversos cargos, cantidad de personas empleadas y el salario correspondiente:\n",
        "\n",
        "|Cargo | Cantidad | Salario|\n",
        "|---|---|---|\n",
        "|Vigilante | 5 | 300 |\n",
        "|Docente | 16| 500|\n",
        "|Coordinador| 2 |600|\n",
        "\n",
        "Necesitamos trabajar con estos datos para obtener:\n",
        "\n",
        "- La cantidad total de empleados;\n",
        "- La diferencia entre el salario más bajo y más alto; y\n",
        "- El promedio ponderado de los salarios de los empleados de la escuela."
      ],
      "metadata": {
        "id": "8_HYUbkVYdQY"
      }
    },
    {
      "cell_type": "code",
      "source": [
        "c_vigilante = 5\n",
        "s_vigilante = 300\n",
        "c_docente = 16\n",
        "s_docente = 500\n",
        "c_cordinador = 2\n",
        "s_cordinador = 600\n",
        "\n",
        "total_empleados = c_cordinador + c_docente + c_vigilante\n",
        "total_empleados\n",
        "\n",
        "\n"
      ],
      "metadata": {
        "id": "F_X-wxdm_5Ys",
        "colab": {
          "base_uri": "https://localhost:8080/"
        },
        "outputId": "53c70702-9749-49fa-b730-da8c737fadd9"
      },
      "execution_count": null,
      "outputs": [
        {
          "output_type": "execute_result",
          "data": {
            "text/plain": [
              "23"
            ]
          },
          "metadata": {},
          "execution_count": 50
        }
      ]
    },
    {
      "cell_type": "code",
      "source": [
        "diferencia_salario= s_cordinador - s_vigilante\n",
        "diferencia_salario"
      ],
      "metadata": {
        "id": "gKmBbhII_5b9",
        "colab": {
          "base_uri": "https://localhost:8080/"
        },
        "outputId": "883c544b-c0bb-4ec6-bbce-3b1ee726f44f"
      },
      "execution_count": null,
      "outputs": [
        {
          "output_type": "execute_result",
          "data": {
            "text/plain": [
              "300"
            ]
          },
          "metadata": {},
          "execution_count": 49
        }
      ]
    },
    {
      "cell_type": "code",
      "source": [
        "\n",
        "promedio_salarios = (c_vigilante * s_vigilante + c_docente * s_docente + c_cordinador * s_cordinador) / total_empleados\n",
        "promedio_salarios"
      ],
      "metadata": {
        "id": "fIugsxNy_53j",
        "colab": {
          "base_uri": "https://localhost:8080/"
        },
        "outputId": "1fcfe3f7-a96e-4bc9-b32c-ce54b2457a42"
      },
      "execution_count": null,
      "outputs": [
        {
          "output_type": "execute_result",
          "data": {
            "text/plain": [
              "465.2173913043478"
            ]
          },
          "metadata": {},
          "execution_count": 48
        }
      ]
    },
    {
      "cell_type": "markdown",
      "source": [
        "## Strings"
      ],
      "metadata": {
        "id": "yQy7b0ZWoD-P"
      }
    },
    {
      "cell_type": "markdown",
      "source": [
        "Strings hace referencia a un conjunto de caracteres formando un texto.\n",
        "\n",
        "Podemos crear Strings cuando atribuimos un dato a una variable entre comillas sencillas (`'`) o comillas dobles (`\"`)."
      ],
      "metadata": {
        "id": "vlo2-DXusv3s"
      }
    },
    {
      "cell_type": "code",
      "source": [
        "t = 'Alura'\n",
        "type (t)"
      ],
      "metadata": {
        "id": "ityEWqvh_2wK",
        "colab": {
          "base_uri": "https://localhost:8080/"
        },
        "outputId": "1b51e066-76f0-4f60-a1df-4a39c0bdc2fe"
      },
      "execution_count": null,
      "outputs": [
        {
          "output_type": "execute_result",
          "data": {
            "text/plain": [
              "str"
            ]
          },
          "metadata": {},
          "execution_count": 51
        }
      ]
    },
    {
      "cell_type": "markdown",
      "source": [
        "Las variables textuales son objetos que poseen métodos que nos ayudan a formatear strings. Los métodos los podemos ejecutar al definir un objeto de acuerdo con la siguiente estructura:\n",
        "\n",
        "```\n",
        "objeto.metodo()\n",
        "```\n",
        "\n",
        "Existen métodos que no necesitan los `()`, siempre es una buena práctica verificar la documentación para cada caso."
      ],
      "metadata": {
        "id": "2e9UD_CCxqz_"
      }
    },
    {
      "cell_type": "markdown",
      "source": [
        "---\n",
        "**Situación:**\n",
        "\n",
        "Recibimos una variable con el nombre de una profesora de la escuela para añadirla a los registros. Sin embargo, necesitamos darle un tratamiento a este texto antes de insertarlo al sistema."
      ],
      "metadata": {
        "id": "p6aPmMGP4tf9"
      }
    },
    {
      "cell_type": "code",
      "source": [
        "texto = '  Micaela de los Sanyos '"
      ],
      "metadata": {
        "id": "icDWtYTjBO0n"
      },
      "execution_count": null,
      "outputs": []
    },
    {
      "cell_type": "markdown",
      "source": [
        "El objetivo final es que el nombre aparezca de la siguiente forma:\n",
        "\n",
        "```\n",
        "'MICAELA DE LOS SANTOS'\n",
        "```"
      ],
      "metadata": {
        "id": "Dg2ZXSZOGzjC"
      }
    },
    {
      "cell_type": "markdown",
      "source": [
        "### [`str.upper()` ](https://docs.python.org/3/library/stdtypes.html#str.upper)\n",
        "Convierte una string a mayúsculas."
      ],
      "metadata": {
        "id": "iVTAD8q702eN"
      }
    },
    {
      "cell_type": "code",
      "source": [
        "texto.upper()"
      ],
      "metadata": {
        "id": "wMVshJrY_ZXh",
        "colab": {
          "base_uri": "https://localhost:8080/",
          "height": 36
        },
        "outputId": "a6432d3e-f54d-4437-aa7d-ee811619b3b7"
      },
      "execution_count": null,
      "outputs": [
        {
          "output_type": "execute_result",
          "data": {
            "text/plain": [
              "'  MICAELA DE LOS SANYOS '"
            ],
            "application/vnd.google.colaboratory.intrinsic+json": {
              "type": "string"
            }
          },
          "metadata": {},
          "execution_count": 55
        }
      ]
    },
    {
      "cell_type": "markdown",
      "source": [
        "### [`str.lower()`](https://docs.python.org/3/library/stdtypes.html#str.lower)\n",
        "Convierte una string a minúsculas."
      ],
      "metadata": {
        "id": "hbDSBtMV1TpG"
      }
    },
    {
      "cell_type": "code",
      "source": [
        "texto.lower()"
      ],
      "metadata": {
        "id": "px3yEeNH_YK4",
        "colab": {
          "base_uri": "https://localhost:8080/",
          "height": 36
        },
        "outputId": "a6f73243-0ba0-49df-c424-cc500976c919"
      },
      "execution_count": null,
      "outputs": [
        {
          "output_type": "execute_result",
          "data": {
            "text/plain": [
              "'  micaela de los sanyos '"
            ],
            "application/vnd.google.colaboratory.intrinsic+json": {
              "type": "string"
            }
          },
          "metadata": {},
          "execution_count": 56
        }
      ]
    },
    {
      "cell_type": "markdown",
      "source": [
        "### [`str.strip()`](https://docs.python.org/3/library/stdtypes.html#str.strip)\n",
        "Elimina los espacios en blanco al inicio y al final de una string."
      ],
      "metadata": {
        "id": "kz47eWM11gii"
      }
    },
    {
      "cell_type": "code",
      "source": [
        "texto.strip()"
      ],
      "metadata": {
        "id": "76dLgNa4_XAe",
        "colab": {
          "base_uri": "https://localhost:8080/",
          "height": 36
        },
        "outputId": "0b5ecffd-d0ad-4a1a-eb97-0e8358593795"
      },
      "execution_count": null,
      "outputs": [
        {
          "output_type": "execute_result",
          "data": {
            "text/plain": [
              "'Micaela de los Sanyos'"
            ],
            "application/vnd.google.colaboratory.intrinsic+json": {
              "type": "string"
            }
          },
          "metadata": {},
          "execution_count": 57
        }
      ]
    },
    {
      "cell_type": "markdown",
      "source": [
        "### [`str.replace(antiguo, nuevo)`](https://docs.python.org/3/library/stdtypes.html#str.replace)\n",
        "\n",
        "Sustituye todas las ocurrencias del texto \"antiguo\" en la string por el  \"nuevo\"."
      ],
      "metadata": {
        "id": "m6notiyS1SCV"
      }
    },
    {
      "cell_type": "code",
      "source": [
        "texto = texto.strip().replace('y', 't')\n",
        "texto"
      ],
      "metadata": {
        "id": "PNXAixtE_V6R",
        "colab": {
          "base_uri": "https://localhost:8080/",
          "height": 36
        },
        "outputId": "6c674c2f-4a1e-4283-89c3-cf1be99fcff7"
      },
      "execution_count": null,
      "outputs": [
        {
          "output_type": "execute_result",
          "data": {
            "text/plain": [
              "'Micaela de los Santos'"
            ],
            "application/vnd.google.colaboratory.intrinsic+json": {
              "type": "string"
            }
          },
          "metadata": {},
          "execution_count": 62
        }
      ]
    },
    {
      "cell_type": "markdown",
      "source": [
        "### Observaciones\n",
        "\n",
        "1. Los métodos devuelven una **tranformación**, no son ejecutados directamente sobre la variable donde está almacenado el texto.\n",
        "\n",
        "2. Adicionalmente, podemos acumular la ejecución de los métodos."
      ],
      "metadata": {
        "id": "zukvEjhG2Rcn"
      }
    },
    {
      "cell_type": "code",
      "source": [],
      "metadata": {
        "id": "JjkBRklr_T5n"
      },
      "execution_count": null,
      "outputs": []
    },
    {
      "cell_type": "markdown",
      "source": [
        "Para que la transformación se pueda ejecutar debemos atribuir la salida de las transformaciones a las variables"
      ],
      "metadata": {
        "id": "1KbwfVut2h6I"
      }
    },
    {
      "cell_type": "code",
      "source": [],
      "metadata": {
        "id": "ocPP-Jaj_SJI"
      },
      "execution_count": null,
      "outputs": []
    },
    {
      "cell_type": "code",
      "source": [],
      "metadata": {
        "id": "m1RvLGZZ_SP3"
      },
      "execution_count": null,
      "outputs": []
    },
    {
      "cell_type": "markdown",
      "source": [
        "## Capturando datos\n",
        "\n",
        "En algunas aplicaciones necesitamos capturar los valores del usuario de nuestro proyecto. En python, logramos capturar los datos del usuario a través del comando [`input()`](https://docs.python.org/3/library/functions.html#input).\n",
        "\n",
        "Para ejecutar la captura debemos atribuir el resultado de esta función a una variable."
      ],
      "metadata": {
        "id": "0h9Fh5G9kHCa"
      }
    },
    {
      "cell_type": "code",
      "source": [
        "nombre = input('escribe tu nombre: ')\n"
      ],
      "metadata": {
        "id": "zbH_9i3q_PdY",
        "colab": {
          "base_uri": "https://localhost:8080/"
        },
        "outputId": "94357f18-05dd-4db4-cd7e-92067da908e5"
      },
      "execution_count": null,
      "outputs": [
        {
          "name": "stdout",
          "output_type": "stream",
          "text": [
            "escribe tu nombre: marlon\n"
          ]
        }
      ]
    },
    {
      "cell_type": "code",
      "source": [
        "type(nombre)"
      ],
      "metadata": {
        "id": "JZy1Q9Tl_PgL",
        "colab": {
          "base_uri": "https://localhost:8080/"
        },
        "outputId": "d77ebd85-064a-4004-8cc3-180be2972f0a"
      },
      "execution_count": null,
      "outputs": [
        {
          "output_type": "execute_result",
          "data": {
            "text/plain": [
              "str"
            ]
          },
          "metadata": {},
          "execution_count": 65
        }
      ]
    },
    {
      "cell_type": "markdown",
      "source": [
        "La salida de este comando siempre será una *string*. Esto quiere decir que aunque capturemos un valor de variable numérica, este será de tipo string.\n",
        "\n",
        "Entonces, será necesario **convertir el resultado cuando no se desea utilizar el valor como tipo string**."
      ],
      "metadata": {
        "id": "7z7hcLCk_aCY"
      }
    },
    {
      "cell_type": "markdown",
      "source": [
        "Existen funciones para la conversión de valores:\n",
        "\n",
        "- Enteros: [`int(dato_para_conversion)`](https://docs.python.org/3/library/functions.html#int)\n",
        "- Coma flotante: [`float(dato_para_conversion)`](https://docs.python.org/3/library/functions.html#float)\n",
        "- String: [`str(dato_para_conversion)`](https://docs.python.org/3/library/functions.html#func-str)\n",
        "- Booleano: [`bool(dato_para_conversion)`](https://docs.python.org/3/library/functions.html#bool)"
      ],
      "metadata": {
        "id": "TOlegATj1Jfp"
      }
    },
    {
      "cell_type": "code",
      "source": [
        "ano_admision = int(input('digita el año de admision: '))\n"
      ],
      "metadata": {
        "id": "M2ueeH6l_NMe",
        "colab": {
          "base_uri": "https://localhost:8080/"
        },
        "outputId": "69c93184-9756-4a1e-afda-f9b3960572e4"
      },
      "execution_count": null,
      "outputs": [
        {
          "name": "stdout",
          "output_type": "stream",
          "text": [
            "digita el año de admision: 2023\n"
          ]
        }
      ]
    },
    {
      "cell_type": "code",
      "source": [
        "nota_admision = float(input('Digite la nota de admision: '))\n",
        "\n"
      ],
      "metadata": {
        "id": "xfWwuViK_NUn",
        "colab": {
          "base_uri": "https://localhost:8080/"
        },
        "outputId": "b1809a5f-6778-4b0d-aceb-f9460c0c3549"
      },
      "execution_count": null,
      "outputs": [
        {
          "name": "stdout",
          "output_type": "stream",
          "text": [
            "Digite la nota de admision: 9.5\n"
          ]
        }
      ]
    },
    {
      "cell_type": "code",
      "source": [],
      "metadata": {
        "id": "uFCHDyew_NZm"
      },
      "execution_count": null,
      "outputs": []
    },
    {
      "cell_type": "markdown",
      "source": [
        "Trataremos de representar mejor ahora el resultado de la transformación que obtuvimos. Nosotros podemos formatear y presentar nuestro resultado mezclando strings con valores no textuales.\n",
        "\n",
        "Para ello utilizamos la estructura de formatación `f` con strings."
      ],
      "metadata": {
        "id": "yNI2-XTbB3aS"
      }
    },
    {
      "cell_type": "code",
      "source": [
        "print(f'\\tEl año de admision fue {ano_admision} \\n\\tEl resultado fue: {nota_admision}')\n",
        "chr(64)\n",
        "chr(72) + chr(111) +  chr(108) + chr(97)"
      ],
      "metadata": {
        "id": "keJjA5N9_K5i",
        "colab": {
          "base_uri": "https://localhost:8080/",
          "height": 72
        },
        "outputId": "9ca2dbef-ac1f-486e-93cb-cecc1a1e2419"
      },
      "execution_count": null,
      "outputs": [
        {
          "output_type": "stream",
          "name": "stdout",
          "text": [
            "\tEl año de admision fue 2023 \n",
            "\tEl resultado fue: 9.5\n"
          ]
        },
        {
          "output_type": "execute_result",
          "data": {
            "text/plain": [
              "'Hola'"
            ],
            "application/vnd.google.colaboratory.intrinsic+json": {
              "type": "string"
            }
          },
          "metadata": {},
          "execution_count": 77
        }
      ]
    },
    {
      "cell_type": "code",
      "source": [
        "nombre_usuario = input('Escribe tu nombre: ');\n",
        "print(f'Hola {nombre_usuario}')"
      ],
      "metadata": {
        "colab": {
          "base_uri": "https://localhost:8080/"
        },
        "id": "sndt0y1WlOeg",
        "outputId": "215b7119-f107-4359-eede-9f6ea15e316c"
      },
      "execution_count": null,
      "outputs": [
        {
          "output_type": "stream",
          "name": "stdout",
          "text": [
            "Escribe tu nombre: m\n",
            "Hola m\n"
          ]
        }
      ]
    },
    {
      "cell_type": "code",
      "source": [
        "nombre_2 = input ('escribe tu nombre: ')\n",
        "edad_2 = input ('escribe tu edad: ')\n",
        "print(f'Hola {nombre_2}, tienes {edad_2} años.')"
      ],
      "metadata": {
        "colab": {
          "base_uri": "https://localhost:8080/"
        },
        "id": "ASes756-lOLK",
        "outputId": "92366b69-1752-492f-ba71-02a6fd9a2822"
      },
      "execution_count": null,
      "outputs": [
        {
          "output_type": "stream",
          "name": "stdout",
          "text": [
            "escribe tu nombre: m\n",
            "escribe tu edad: 2\n",
            "Hola m, tienes 2 años\n"
          ]
        }
      ]
    },
    {
      "cell_type": "code",
      "source": [
        "nombre_3 = input ('escribe tu nombre: ')\n",
        "edad_3 = input ('escribe tu edad: ')\n",
        "altura_3 = input ('escribe tu altura: ')\n",
        "print(f'Hola {nombre_3}, tienes {edad_3} años y mides {altura_3} cms.')"
      ],
      "metadata": {
        "colab": {
          "base_uri": "https://localhost:8080/"
        },
        "id": "2yrTvLW6mX5t",
        "outputId": "5ccaf27d-83d0-4ded-f564-ca1d46c22ff5"
      },
      "execution_count": null,
      "outputs": [
        {
          "output_type": "stream",
          "name": "stdout",
          "text": [
            "escribe tu nombre: m\n",
            "escribe tu edad: 2\n",
            "escribe tu altura: 20\n",
            "Hola m, tienes 2 años y mides 20cms.\n"
          ]
        }
      ]
    },
    {
      "cell_type": "code",
      "source": [
        "numero_1 = int(input('escribe un numero: '))\n",
        "numero_2 = int(input('escribe otro numero: '))\n",
        "suma = numero_1 + numero_2\n",
        "print(f'la suma es: {suma}')"
      ],
      "metadata": {
        "colab": {
          "base_uri": "https://localhost:8080/"
        },
        "id": "auuQK5nKmXys",
        "outputId": "5bfe6173-9703-40cf-809d-f15aec5537e2"
      },
      "execution_count": null,
      "outputs": [
        {
          "output_type": "stream",
          "name": "stdout",
          "text": [
            "escribe un numero: 5\n",
            "escribe otro numero: 5\n",
            "la suma es: 10\n"
          ]
        }
      ]
    },
    {
      "cell_type": "code",
      "source": [
        "numero_1 = int(input('escribe un numero: '))\n",
        "numero_2 = int(input('escribe otro numero: '))\n",
        "numero_3 = int(input('escribe otro numero: '))\n",
        "suma = numero_1 + numero_2 + numero_3\n",
        "print(f'la suma es: {suma}')"
      ],
      "metadata": {
        "colab": {
          "base_uri": "https://localhost:8080/"
        },
        "id": "F-gP52CNmXrL",
        "outputId": "9a60787e-64f7-45f4-edda-4fca09e63ff1"
      },
      "execution_count": null,
      "outputs": [
        {
          "output_type": "stream",
          "name": "stdout",
          "text": [
            "escribe un numero: 5\n",
            "escribe otro numero: 5\n",
            "escribe otro numero: 5\n",
            "la suma es: 15\n"
          ]
        }
      ]
    },
    {
      "cell_type": "code",
      "source": [
        "numero_1 = int(input('escribe un numero: '))\n",
        "numero_2 = int(input('escribe otro numero: '))\n",
        "resta = numero_1 - numero_2\n",
        "print(f'la resta es: {resta}')"
      ],
      "metadata": {
        "colab": {
          "base_uri": "https://localhost:8080/"
        },
        "id": "jF4v8ZCvmXi4",
        "outputId": "58d4ce05-2b1d-408d-e54a-1b1f7a39f9d2"
      },
      "execution_count": null,
      "outputs": [
        {
          "output_type": "stream",
          "name": "stdout",
          "text": [
            "escribe un numero: 5\n",
            "escribe otro numero: 5\n",
            "la resta es: 0\n"
          ]
        }
      ]
    },
    {
      "cell_type": "code",
      "source": [
        "numero_1 = int(input('escribe un numero: '))\n",
        "numero_2 = int(input('escribe otro numero: '))\n",
        "producto = numero_1 * numero_2\n",
        "print(f'el producto es: {producto}')"
      ],
      "metadata": {
        "colab": {
          "base_uri": "https://localhost:8080/"
        },
        "id": "Xb6dFyFlnd7w",
        "outputId": "c5e1417d-2906-4413-ab26-0c4d1be05b54"
      },
      "execution_count": null,
      "outputs": [
        {
          "output_type": "stream",
          "name": "stdout",
          "text": [
            "escribe un numero: 5\n",
            "escribe otro numero: 5\n",
            "el producto es: 25\n"
          ]
        }
      ]
    },
    {
      "cell_type": "code",
      "source": [
        "numerador = int(input('escribe un numero: '))\n",
        "denominador = int(input('escribe un numero diferente de 0: '))\n",
        "if denominador != 0:\n",
        "    resultado = numerador / denominador\n",
        "    print(f\"El resultado de la división es: {resultado}\")\n",
        "else:\n",
        "    print(\"Error: El denominador no puede ser cero.\")"
      ],
      "metadata": {
        "colab": {
          "base_uri": "https://localhost:8080/"
        },
        "id": "dSlr5bNDnd4m",
        "outputId": "2675c764-a418-4130-f3bf-e688d0b59599"
      },
      "execution_count": null,
      "outputs": [
        {
          "output_type": "stream",
          "name": "stdout",
          "text": [
            "escribe un numero: 5\n",
            "escribe un numero diferente de 0: 1\n",
            "El resultado de la división es: 5.0\n"
          ]
        }
      ]
    },
    {
      "cell_type": "code",
      "source": [
        "operador = int(input('escribe un numero: '))\n",
        "potencia = int(input('escribe otro numero: '))\n",
        "exponenciacion = operador ** potencia\n",
        "print(f'la exponenciacion es: {exponenciacion}')"
      ],
      "metadata": {
        "colab": {
          "base_uri": "https://localhost:8080/"
        },
        "id": "rpbOT47End1Q",
        "outputId": "38372325-1901-481d-83a8-ccb8bdbc4c78"
      },
      "execution_count": null,
      "outputs": [
        {
          "output_type": "stream",
          "name": "stdout",
          "text": [
            "escribe un numero: 5\n",
            "escribe otro numero: 2\n",
            "la exponenciacion es: 25\n"
          ]
        }
      ]
    },
    {
      "cell_type": "code",
      "source": [
        "numerador = int(input('escribe un numero: '))\n",
        "denominador = int(input('escribe otro numero diferente de cero: '))\n",
        "if denominador != 0:\n",
        "    resultado = numerador // denominador\n",
        "    print(f\"El resultado de la división entera es: {resultado}\")\n",
        "else:\n",
        "    print(\"Error: El denominador no puede ser cero.\")"
      ],
      "metadata": {
        "colab": {
          "base_uri": "https://localhost:8080/"
        },
        "id": "2H_m8cnnpL5V",
        "outputId": "bb183f11-9fe5-4ecd-8744-9ed3c0220207"
      },
      "execution_count": null,
      "outputs": [
        {
          "output_type": "stream",
          "name": "stdout",
          "text": [
            "escribe un numero: 5\n",
            "escribe otro numero diferente de cero: 1\n",
            "El resultado de la división entera es: 5\n"
          ]
        }
      ]
    },
    {
      "cell_type": "code",
      "source": [
        "numerador = float(input('escribe un numero: '))\n",
        "denominador = float(input('escribe otro numero diferente de cero: '))\n",
        "if denominador != 0:\n",
        "    resto = numerador % denominador\n",
        "    print(f\"El residuo es: {resto}\")\n",
        "else:\n",
        "    print(\"Error: El denominador no puede ser cero.\")"
      ],
      "metadata": {
        "colab": {
          "base_uri": "https://localhost:8080/"
        },
        "id": "OXAQnwhrpLwB",
        "outputId": "fc5f2b58-b1d0-465b-8ec1-4b3c79956235"
      },
      "execution_count": null,
      "outputs": [
        {
          "output_type": "stream",
          "name": "stdout",
          "text": [
            "escribe un numero: 10\n",
            "escribe otro numero diferente de cero: 3\n",
            "El residuo es: 1.0\n"
          ]
        }
      ]
    },
    {
      "cell_type": "code",
      "source": [
        "nota_1 = float(input('escriba la nota 1: '))\n",
        "nota_2 = float(input('escriba la nota 2: '))\n",
        "nota_3 = float(input('escriba la nota 3: '))\n",
        "promedio = (nota_1 + nota_2 + nota_3) /3\n",
        "print ('el promedio es: ', promedio)"
      ],
      "metadata": {
        "colab": {
          "base_uri": "https://localhost:8080/"
        },
        "id": "TOOcDl90p6-0",
        "outputId": "aab251de-e314-4872-a238-68208a39a990"
      },
      "execution_count": null,
      "outputs": [
        {
          "output_type": "stream",
          "name": "stdout",
          "text": [
            "escriba la nota 1: 8.5\n",
            "escriba la nota 2: 9.2\n",
            "escriba la nota 3: 3.1\n",
            "el promedio es:  6.933333333333334\n"
          ]
        }
      ]
    },
    {
      "cell_type": "code",
      "source": [
        "numeros = [5, 12, 20, 15]\n",
        "pesos = [1, 2, 3, 4]\n",
        "suma_ponderada = sum(n*p for n, p in zip(numeros, pesos))\n",
        "suma_pesos = sum(pesos)\n",
        "\n",
        "promedio_ponderado = suma_ponderada / suma_pesos\n",
        "print(f\"El promedio ponderado es: {promedio_ponderado}\")"
      ],
      "metadata": {
        "colab": {
          "base_uri": "https://localhost:8080/"
        },
        "id": "XMLu0cczp67z",
        "outputId": "58196801-1953-4371-c2aa-2bacff206a1d"
      },
      "execution_count": null,
      "outputs": [
        {
          "output_type": "stream",
          "name": "stdout",
          "text": [
            "El promedio ponderado es: 14.9\n"
          ]
        }
      ]
    },
    {
      "cell_type": "code",
      "source": [
        "frase = 'los pajaros cantan'\n",
        "print (frase)"
      ],
      "metadata": {
        "colab": {
          "base_uri": "https://localhost:8080/"
        },
        "id": "1J-q-n9op623",
        "outputId": "45a924c1-3136-459a-c76a-40252e3a3c47"
      },
      "execution_count": null,
      "outputs": [
        {
          "output_type": "stream",
          "name": "stdout",
          "text": [
            "los pajaros cantan\n"
          ]
        }
      ]
    },
    {
      "cell_type": "code",
      "source": [
        "frase_1= input(' escribe una frase corta: ')\n",
        "print(frase_1)"
      ],
      "metadata": {
        "colab": {
          "base_uri": "https://localhost:8080/"
        },
        "id": "o5q_prx0p6xj",
        "outputId": "3138e0c6-91ad-428a-ab0f-02cf6c0db944"
      },
      "execution_count": null,
      "outputs": [
        {
          "output_type": "stream",
          "name": "stdout",
          "text": [
            " escribe una frase corta: hola muuuu\n",
            "hola muuuu\n"
          ]
        }
      ]
    },
    {
      "cell_type": "code",
      "source": [
        "frase_upper= input(' escribe una frase corta: ')\n",
        "print(frase_upper.upper())"
      ],
      "metadata": {
        "colab": {
          "base_uri": "https://localhost:8080/"
        },
        "id": "td0Cx_5Up6uj",
        "outputId": "27b13ed5-11f0-431d-f4e5-3eea687500ee"
      },
      "execution_count": null,
      "outputs": [
        {
          "output_type": "stream",
          "name": "stdout",
          "text": [
            " escribe una frase corta: hola muuuu\n",
            "HOLA MUUUU\n"
          ]
        }
      ]
    },
    {
      "cell_type": "code",
      "source": [
        "frase_lower= input(' escribe una frase corta: ')\n",
        "print(frase_lower.lower())"
      ],
      "metadata": {
        "colab": {
          "base_uri": "https://localhost:8080/"
        },
        "id": "0p80zrwyp6qx",
        "outputId": "63c6c15d-1bcf-428c-afeb-51a647e4e30f"
      },
      "execution_count": null,
      "outputs": [
        {
          "output_type": "stream",
          "name": "stdout",
          "text": [
            " escribe una frase corta: HOLA MUUU\n",
            "hola muuu\n"
          ]
        }
      ]
    },
    {
      "cell_type": "code",
      "source": [
        "frase = '    los pajaros cantan   '\n",
        "frase_str = frase.strip()\n",
        "print (frase_str)"
      ],
      "metadata": {
        "colab": {
          "base_uri": "https://localhost:8080/"
        },
        "id": "j32YIUXqp6oU",
        "outputId": "2131bc81-8876-4e25-d867-d4644ffa679a"
      },
      "execution_count": null,
      "outputs": [
        {
          "output_type": "stream",
          "name": "stdout",
          "text": [
            "los pajaros cantan\n"
          ]
        }
      ]
    },
    {
      "cell_type": "code",
      "source": [
        "frase = input('escribe una frase: ')\n",
        "frase_str = frase.strip()\n",
        "print (frase_str)"
      ],
      "metadata": {
        "colab": {
          "base_uri": "https://localhost:8080/"
        },
        "id": "mMjoOtiyp6lN",
        "outputId": "3cb6193d-8f51-47cc-af6f-98650365c846"
      },
      "execution_count": null,
      "outputs": [
        {
          "output_type": "stream",
          "name": "stdout",
          "text": [
            "escribe una frase:             Hola muuu \n",
            "Hola muuu\n"
          ]
        }
      ]
    },
    {
      "cell_type": "code",
      "source": [
        "frase = input('escribe una frase: ')\n",
        "frase_str = frase.strip().lower()\n",
        "print (frase_str)"
      ],
      "metadata": {
        "colab": {
          "base_uri": "https://localhost:8080/"
        },
        "id": "WYLgcCvip6hi",
        "outputId": "cd573bfe-3817-4a82-fc31-bd869b1a1998"
      },
      "execution_count": null,
      "outputs": [
        {
          "output_type": "stream",
          "name": "stdout",
          "text": [
            "escribe una frase:      Hola MUUU\n",
            "hola muuu\n"
          ]
        }
      ]
    },
    {
      "cell_type": "code",
      "source": [
        "frase = input('escribe una frase: ')\n",
        "frase_replace = frase.replace('e', 'f')\n",
        "print (frase_replace)"
      ],
      "metadata": {
        "colab": {
          "base_uri": "https://localhost:8080/"
        },
        "id": "GoBybzmYp6WJ",
        "outputId": "00f16f68-4f19-4fbb-f222-2398dc33d15f"
      },
      "execution_count": null,
      "outputs": [
        {
          "output_type": "stream",
          "name": "stdout",
          "text": [
            "escribe una frase: wenas erutas\n",
            "wfnas frutas\n"
          ]
        }
      ]
    },
    {
      "cell_type": "code",
      "source": [
        "frase = input('escribe una frase: ')\n",
        "frase_replace2 = frase.replace('a', chr(64))\n",
        "print (frase_replace2)"
      ],
      "metadata": {
        "colab": {
          "base_uri": "https://localhost:8080/"
        },
        "id": "C7YtcKisp6L3",
        "outputId": "aff68f61-4ebf-4cbd-a5c8-79430bb42dcc"
      },
      "execution_count": null,
      "outputs": [
        {
          "output_type": "stream",
          "name": "stdout",
          "text": [
            "escribe una frase: vacaciones\n",
            "v@c@ciones\n"
          ]
        }
      ]
    },
    {
      "cell_type": "code",
      "source": [
        "frase = input('escribe una frase: ')\n",
        "frase_replace3 = frase.replace('s', chr(36)).replace('S', chr(36))\n",
        "print (frase_replace3)"
      ],
      "metadata": {
        "colab": {
          "base_uri": "https://localhost:8080/"
        },
        "id": "8w72mZ2kux3y",
        "outputId": "21eb5d57-3795-47af-ae6e-3e2d1c325350"
      },
      "execution_count": null,
      "outputs": [
        {
          "output_type": "stream",
          "name": "stdout",
          "text": [
            "escribe una frase: Sapos\n",
            "$apo$\n"
          ]
        }
      ]
    },
    {
      "cell_type": "markdown",
      "source": [
        "# Estructuras condicionales"
      ],
      "metadata": {
        "id": "NwRaiHHHhhyl"
      }
    },
    {
      "cell_type": "code",
      "source": [
        "# Nota de aprobacion es entre 7 y 10 => nota_aprobacion >= 7\n",
        "# Nota de reprobacion menor a 7 => nota_reprobacion < 7\n",
        "\n",
        "\"\"\"\n",
        "si la nota de aprobacion es mayor o igual a 7 es aprobado\n",
        "si la nota de reprobacion es menor a 7 es reprobado\n",
        "\"\"\"\n"
      ],
      "metadata": {
        "id": "pa4gLncu-mvU"
      },
      "execution_count": null,
      "outputs": []
    },
    {
      "cell_type": "code",
      "source": [],
      "metadata": {
        "id": "_cWRmDiE-m4p"
      },
      "execution_count": null,
      "outputs": []
    },
    {
      "cell_type": "markdown",
      "source": [
        "## `IF` y `ELSE`\n",
        "\n",
        "Los comandos `if` y `else` son dos estructuras condicionales. El comando `if` ejecutará el bloque de comandos en caso de que la condición citada sea  **verdadera**. El comando `else` ejecutará el bloque de comandos en el caso de que la condicional de `if` sea **falsa**."
      ],
      "metadata": {
        "id": "qXZqg9aYEhAh"
      }
    },
    {
      "cell_type": "markdown",
      "source": [
        "El comando `if` es una palabra clave en Python que significa \"si\". Este se emplea para conformar la estructura condicional, que te permite verificar si una determinada condición es verdadera o falsa e, inmediatamente después, ejecute un bloque de código específico dependiendo del resultado de la verificación. La sintaxis para usar el comando `if` es:\n",
        "\n",
        "\n",
        "\n",
        "```\n",
        "if condicion:\n",
        "    # Realiza algo\n",
        "```\n",
        "\n"
      ],
      "metadata": {
        "id": "EIhlqHXd2Gil"
      }
    },
    {
      "cell_type": "code",
      "source": [
        "if 2< 7:\n",
        "  print ('La condicion es verdadera.')"
      ],
      "metadata": {
        "id": "S2S6XAFz-czM",
        "outputId": "5a543da3-bb1b-4e54-89de-12a9512b573c",
        "colab": {
          "base_uri": "https://localhost:8080/"
        }
      },
      "execution_count": null,
      "outputs": [
        {
          "output_type": "stream",
          "name": "stdout",
          "text": [
            "la condicion es verdadera\n"
          ]
        }
      ]
    },
    {
      "cell_type": "code",
      "source": [],
      "metadata": {
        "id": "YHkwMMyY-c1r",
        "outputId": "60009507-fbf2-458b-a908-a8031f6b2a88",
        "colab": {
          "base_uri": "https://localhost:8080/"
        }
      },
      "execution_count": null,
      "outputs": [
        {
          "output_type": "stream",
          "name": "stdout",
          "text": [
            "La condicion es falsa.\n",
            "Fin de la consulta.\n"
          ]
        }
      ]
    },
    {
      "cell_type": "markdown",
      "source": [
        "Ya el comando `else` en Python se usa en junción con la palabra clave `if` para formar una estructura condicional. la sintaxis para usar el `else` es:\n",
        "\n",
        "```\n",
        "if condicion:\n",
        "  # codigo en caso de que sea verdad\n",
        "else:\n",
        "  # codigo en caso de que sea falso\n",
        "```\n",
        "\n",
        "el comando `else` se ejecuta cuando la condición verificada por el `if` es evaluada como `False`."
      ],
      "metadata": {
        "id": "27RW2v_sIKct"
      }
    },
    {
      "cell_type": "code",
      "source": [
        "if 2 > 7:\n",
        "  print ('La condicion es verdadera.')\n",
        "else:\n",
        "  print ('La condicion es falsa.')\n",
        "\n",
        "print ('Fin de la consulta.')"
      ],
      "metadata": {
        "id": "ZTfNJd_f-aOq"
      },
      "execution_count": null,
      "outputs": []
    },
    {
      "cell_type": "code",
      "source": [],
      "metadata": {
        "id": "LPOb5MkV-btq"
      },
      "execution_count": null,
      "outputs": []
    },
    {
      "cell_type": "markdown",
      "source": [
        "---\n",
        "**Situación:**\n",
        "\n",
        "Recibiremos el promedio de la nota de los estudiantes y necesitamos de un algoritmo que ejecute el análisis y determine si el estudiante fue **Aprobado** o **Reprobado**, mostrando un mensaje del resultado. Para ser aprobado, el promedio necesita ser igual o superior a 7.0."
      ],
      "metadata": {
        "id": "BqORg85XX-Nl"
      }
    },
    {
      "cell_type": "code",
      "source": [
        "nota = float(input('Ingresa la nota: '))\n",
        "\n",
        "if nota >= 7 :\n",
        "  print('El estudiante ha sido aprobado')\n",
        "else:\n",
        "  print('El estudiante ha sido reprobado')"
      ],
      "metadata": {
        "id": "UukCN4AQ-YYW",
        "outputId": "4f961d9b-cd83-4ff8-99a0-cfd473309953",
        "colab": {
          "base_uri": "https://localhost:8080/"
        }
      },
      "execution_count": null,
      "outputs": [
        {
          "output_type": "stream",
          "name": "stdout",
          "text": [
            "ingresa la nota: 8\n",
            "El estudiante ha sido aprobado\n"
          ]
        }
      ]
    },
    {
      "cell_type": "code",
      "source": [],
      "metadata": {
        "id": "X0o8FW1H-YkA"
      },
      "execution_count": null,
      "outputs": []
    },
    {
      "cell_type": "markdown",
      "source": [
        "Ahora, nuestra institución educativa estableció que las personas que tengan el promedio entre 5.0 y 7.0 pueden participar del curso de **Recuperación** durante las vacaciones para lograr aprobar.\n",
        "\n",
        "Entonces podemos apoyarnos en un conjunto de `if`s para poder estructurar esta nueva condición."
      ],
      "metadata": {
        "id": "bD9O17HB6LUo"
      }
    },
    {
      "cell_type": "code",
      "source": [
        "nota = float(input('Ingresa la nota: '))\n",
        "\n",
        "if nota >= 7 :\n",
        "  print('El estudiante ha sido aprobado')\n",
        "if 7 > nota >= 5:\n",
        "    print('el estudiante debe ir a recuperacion')\n",
        "if nota < 5:\n",
        "  print('El estudiante ha sido reprobado')"
      ],
      "metadata": {
        "id": "G9cJ5O9--W52",
        "outputId": "e36c867a-8836-4330-95f2-70a37479bc0a",
        "colab": {
          "base_uri": "https://localhost:8080/"
        }
      },
      "execution_count": null,
      "outputs": [
        {
          "output_type": "stream",
          "name": "stdout",
          "text": [
            "Ingresa la nota: 4\n",
            "El estudiante ha sido reprobado\n"
          ]
        }
      ]
    },
    {
      "cell_type": "code",
      "source": [],
      "metadata": {
        "id": "iU-pjoJt-W89"
      },
      "execution_count": null,
      "outputs": []
    },
    {
      "cell_type": "markdown",
      "source": [
        "Observa que en casos con 3 situaciones como este necesitamos definir bien nuestras condiciones. Pues, si realizamos una condición con `else` al final, este irá a considerar solamente la condición `if` inmediatamente anterior para generar la salida en caso de que el resultado de su operación lógica sea **falso** dando como resultado, dos o más ejecuciones.\n",
        "\n",
        "Por ejemplo:"
      ],
      "metadata": {
        "id": "D5e2mByjvycO"
      }
    },
    {
      "cell_type": "code",
      "source": [
        "nota = float(input('Ingresa la nota: '))\n",
        "\n",
        "if nota >= 7 :\n",
        "  print('El estudiante ha sido aprobado')\n",
        "if 7 > nota >= 5:\n",
        "    print('el estudiante debe ir a recuperacion')\n",
        "else:\n",
        "  print('El estudiante ha sido reprobado')"
      ],
      "metadata": {
        "id": "C21JmOuK-VU8",
        "outputId": "8ce10c53-bb96-4739-df63-4065fac98510",
        "colab": {
          "base_uri": "https://localhost:8080/"
        }
      },
      "execution_count": null,
      "outputs": [
        {
          "output_type": "stream",
          "name": "stdout",
          "text": [
            "Ingresa la nota: 8\n",
            "El estudiante ha sido aprobado\n",
            "El estudiante ha sido reprobado\n"
          ]
        }
      ]
    },
    {
      "cell_type": "code",
      "source": [],
      "metadata": {
        "id": "bHiVgnPs-Vlv"
      },
      "execution_count": null,
      "outputs": []
    },
    {
      "cell_type": "markdown",
      "source": [
        "## `ELIF`\n",
        "\n",
        "El comando `elif` es una palabra clave en Python que significa \"si no, si\" y lo podemos considerar una *contracción* entre `else` e `if`. Se utiliza en conjunto con la palabra clave `if` para formar una estructura condicional en cadena."
      ],
      "metadata": {
        "id": "04T5g-7h4zWx"
      }
    },
    {
      "cell_type": "markdown",
      "source": [
        "la sintaxis para utilizar el comando `elif` es:\n",
        "\n",
        "```\n",
        "if condicion1:\n",
        "    # Realiza algo\n",
        "elif condicion2:\n",
        "    # Realiza otra cosa\n",
        "elif condicion3:\n",
        "    # Realiza otra cosa\n",
        "else:\n",
        "    # Realiza algo diferente\n",
        "```\n",
        "\n",
        "El comando `elif` permite que puedas verificar varias condiciones en cadena, economizando espacio en tu código. Si la primera condición se evalúa como `False`, el interpretador de Python evaluará la próxima condición con el `elif`. Ello continuará hasta que una condición sea evaluada como `True` o hasta que el `else` sea alcazado. Si ninguna de las condiciones es evaluada como `True`, la ejecución del código del comando `else` será iniciada."
      ],
      "metadata": {
        "id": "rNBHr5mm1Lm6"
      }
    },
    {
      "cell_type": "markdown",
      "source": [
        "Vamos a emplear el mismo caso anterior:"
      ],
      "metadata": {
        "id": "MVoykFbB4bd4"
      }
    },
    {
      "cell_type": "code",
      "source": [
        "nota = float(input('Ingresa la nota: '))\n",
        "\n",
        "if nota >= 7 :\n",
        "  print('El estudiante ha sido aprobado')\n",
        "elif 7 > nota >= 5:\n",
        "    print('el estudiante debe ir a recuperacion')\n",
        "else:\n",
        "  print('El estudiante ha sido reprobado')"
      ],
      "metadata": {
        "id": "QFamB78s-TW_",
        "outputId": "b5ba1cd5-1120-42bf-eb6d-d976ead37903",
        "colab": {
          "base_uri": "https://localhost:8080/"
        }
      },
      "execution_count": null,
      "outputs": [
        {
          "output_type": "stream",
          "name": "stdout",
          "text": [
            "Ingresa la nota: 8\n",
            "El estudiante ha sido aprobado\n"
          ]
        }
      ]
    },
    {
      "cell_type": "code",
      "source": [],
      "metadata": {
        "id": "nuScbnHF-TfK"
      },
      "execution_count": null,
      "outputs": []
    },
    {
      "cell_type": "markdown",
      "source": [
        "## Operadores\n",
        "\n",
        "Durante la construcción de comandos a veces necesitamos de una elaboración mayor de la expresión condicional, necesitando que algunos operadores lógicos se encuentren integrados."
      ],
      "metadata": {
        "id": "Tf1wSOem6iwZ"
      }
    },
    {
      "cell_type": "markdown",
      "source": [
        "### `AND`, `OR`, `NOT`\n",
        "\n",
        "Los operadores lógicos `and`, `or` y `not` son usados para combinar expresiones lógicas en Python. Ellos son usados frecuentemente en conjunto con el comando `if` para crear estructuras condicionales más complejas.\n"
      ],
      "metadata": {
        "id": "GFIZnRWXGPWO"
      }
    },
    {
      "cell_type": "markdown",
      "source": [
        "- `AND` es usado para verificar si dos condiciones son verdaderas. La expresión lógica¹ `x and y` se evalúa como `True` tan solo si **ambas condiciones `x` y `y` son verdaderas**, y como `False` en caso contrario.\n",
        "\n",
        "- `OR` es usado para verificar si al menos una de las condiciones es verdadera. La expresión lógica `x or y` se evalúa como `True` **si al menos una de las condiciones `x` o `y` es verdadera**, y como `False` si ambas condiciones son falsas.\n",
        "\n",
        "- `NOT` es usado para **negar una condición**. La expresión lógica `not x` es evaluada como `True` si la condición x es falsa, y como `False` si la condición x es verdadera.\n",
        "\n",
        "¹ Una expresión lógica es una declaración que puede ser evaluada como verdadera o falsa. Ella se compone por operandos lógicos² y por operadores lógicos³, que son usados ​​para combinar varias expresiones lógicas en una única expresión.\n",
        "\n",
        "² Los operandos lógicos son los elementos que son comparados o evaluados en una expresión lógica. Ellos son generalmente valores verdaderos o falsos, pero también pueden ser expresiones lógicas más complejas. En Python, los operandos lógicos son los valores `True` y `False`.\n",
        "\n",
        "³ Los operadores lógicos son ls símbolos o palabras clave que son usados ​​para combinar varias expresiones lógicas en una única expresión. En Python, los operadores lógicos son `and`, `or` y `not`, bien como las palabras clave `if`, `elif` e `else`."
      ],
      "metadata": {
        "id": "Z_dgAoHXJbzB"
      }
    },
    {
      "cell_type": "markdown",
      "source": [
        "> Operadores lógicos más comunes\n",
        "\n",
        "|a|b|AND|OR|NOT|\n",
        "|-|-|-|-|-|\n",
        "|0|0|0|0|1\n",
        "|0|1|0|1|-\n",
        "|1|0|0|1|-\n",
        "|1|1|1|1|0\n"
      ],
      "metadata": {
        "id": "2E5aUogf-49u"
      }
    },
    {
      "cell_type": "code",
      "source": [
        "v = True\n",
        "f = False\n",
        "\n",
        "if v and v:\n",
        "  print ('la condicion es verdadera')\n",
        "else:\n",
        "  print ('la salida es falsa')"
      ],
      "metadata": {
        "id": "DFKmpvmS-Pa6",
        "outputId": "af002339-844c-4a87-c7b4-fa40a9658a8c",
        "colab": {
          "base_uri": "https://localhost:8080/"
        }
      },
      "execution_count": null,
      "outputs": [
        {
          "output_type": "stream",
          "name": "stdout",
          "text": [
            "la condicion es verdadera\n"
          ]
        }
      ]
    },
    {
      "cell_type": "code",
      "source": [
        "v = True\n",
        "f = False\n",
        "\n",
        "if v or v:\n",
        "  print ('la condicion es verdadera')\n",
        "else:\n",
        "  print ('la salida es falsa')"
      ],
      "metadata": {
        "id": "W5BIrpOD-PeI",
        "outputId": "b3b7f96e-fd0e-4fab-f6f5-08c73d358910",
        "colab": {
          "base_uri": "https://localhost:8080/"
        }
      },
      "execution_count": null,
      "outputs": [
        {
          "output_type": "stream",
          "name": "stdout",
          "text": [
            "la condicion es verdadera\n"
          ]
        }
      ]
    },
    {
      "cell_type": "code",
      "source": [
        "v = True\n",
        "f = False\n",
        "\n",
        "if not f:\n",
        "  print ('la condicion es verdadera')\n",
        "else:\n",
        "  print ('la salida es falsa')"
      ],
      "metadata": {
        "id": "fpDhYxq4-PiM",
        "outputId": "e3450a1b-c064-4cad-f595-657607d61cdb",
        "colab": {
          "base_uri": "https://localhost:8080/"
        }
      },
      "execution_count": null,
      "outputs": [
        {
          "output_type": "stream",
          "name": "stdout",
          "text": [
            "la condicion es verdadera\n"
          ]
        }
      ]
    },
    {
      "cell_type": "markdown",
      "source": [
        "### `IN`\n",
        "\n",
        "Es usado para verificar si un elemento está presente en una lista, tupla u otra colección de conjunto. La expresión `x in y` se evalúa como `True` si el elemento `x` esta presente na variávelen la variable de conjunto `y`, y como `False` en caso contrario."
      ],
      "metadata": {
        "id": "w7EXG1dhWtja"
      }
    },
    {
      "cell_type": "markdown",
      "source": [
        "Podemos verificarlo con variables de texto.\n",
        "\n",
        "---\n",
        "\n",
        "**Situación:**\n",
        "\n",
        "En la escuela nos entregaron una lista con nombres de estudiantes que fueron aprobados según el promedio del semestre, pero es necesario verificar si algunos nombres están en esa lista para confirmar que los datos estén correctos.\n",
        "\n",
        "La lista distribuida puede ser observada a continuación:\n",
        "\n",
        "```\n",
        "lista = 'Juan Pérez, María González, Pedro Rodríguez, Ana López, Carlos Martínez,\n",
        "    Laura Sánchez, José García, Elena Fernández, Luis Morales, Carmen Torres,\n",
        "    David Ruiz, Isabel Ramírez, Javier Díaz, Sara Herrera, Miguel Castro,\n",
        "    Patricia Ortega, Francisco Vargas, Marta Jiménez, Manuel Medina, Rosa Molina,\n",
        "    Alejandro Silva, Silvia Ruiz, Andrés Torres, Natalia Soto, Diego Guerrero,\n",
        "    Paula Ríos, Ricardo Navarro, Alicia Cordero, Carlos Vidal, Lorena Gómez'\n",
        "```\n",
        "\n",
        "Los nombres que necesitas verificar son los siguientes:\n",
        "\n",
        "```\n",
        "nombre_1 = 'Miguel Castro'\n",
        "nombre_2 = 'Marcelo Noguera'\n",
        "```"
      ],
      "metadata": {
        "id": "enJNp6JenQbq"
      }
    },
    {
      "cell_type": "code",
      "source": [
        "lista = 'Juan Pérez, María González, Pedro Rodríguez, Ana López, Carlos Martínez,Laura Sánchez, José García, Elena Fernández, Luis Morales, Carmen Torres,David Ruiz, Isabel Ramírez, Javier Díaz, Sara Herrera, Miguel Castro,Patricia Ortega, Francisco Vargas, Marta Jiménez, Manuel Medina, Rosa Molina,Alejandro Silva, Silvia Ruiz, Andrés Torres, Natalia Soto, Diego Guerrero,Paula Ríos, Ricardo Navarro, Alicia Cordero, Carlos Vidal, Lorena Gómez'"
      ],
      "metadata": {
        "id": "gPPN9BCT-Mki"
      },
      "execution_count": null,
      "outputs": []
    },
    {
      "cell_type": "code",
      "source": [
        "nombre_1 = 'Miguel Castro'\n",
        "nombre_2 = 'Marcelo Noguera'"
      ],
      "metadata": {
        "id": "GINbG3Fa-Mnb"
      },
      "execution_count": null,
      "outputs": []
    },
    {
      "cell_type": "code",
      "source": [
        "if nombre_1 in lista:\n",
        "  print('el estudiante aprobo')\n",
        "else:\n",
        "  print ('el estudiante reprobo')"
      ],
      "metadata": {
        "id": "hk-RhNRT-Mp7",
        "outputId": "5486a7d2-1080-4e2b-8d6c-88c68d6c093b",
        "colab": {
          "base_uri": "https://localhost:8080/"
        }
      },
      "execution_count": null,
      "outputs": [
        {
          "output_type": "stream",
          "name": "stdout",
          "text": [
            "el estudiante aprobo\n"
          ]
        }
      ]
    },
    {
      "cell_type": "code",
      "source": [
        "if nombre_2 in lista:\n",
        "  print('el estudiante aprobo')\n",
        "else:\n",
        "  print ('el estudiante reprobo')"
      ],
      "metadata": {
        "id": "tvEV-3tX_3wB",
        "outputId": "02d082ba-6d73-4545-c757-ca8e0db22002",
        "colab": {
          "base_uri": "https://localhost:8080/"
        }
      },
      "execution_count": null,
      "outputs": [
        {
          "output_type": "stream",
          "name": "stdout",
          "text": [
            "el estudiante reprobo\n"
          ]
        }
      ]
    },
    {
      "cell_type": "code",
      "source": [
        "number1 = float(input('Digite un numero: '))\n",
        "number2 = float(input('Digite un numero: '))\n",
        "\n",
        "if number1 > number2:\n",
        "  print (f'el numero 1 es mayor {number1}')\n",
        "else:\n",
        "  print (f'el numero 2 es mayor {number2}')"
      ],
      "metadata": {
        "id": "xcx21IGT9qA0",
        "outputId": "90a4a23d-2ccd-43cb-a3fe-9f8635d18029",
        "colab": {
          "base_uri": "https://localhost:8080/"
        }
      },
      "execution_count": null,
      "outputs": [
        {
          "output_type": "stream",
          "name": "stdout",
          "text": [
            "Digite un numero: 5\n",
            "Digite un numero: 2\n",
            "el numero 1 es mayor 5.0\n"
          ]
        }
      ]
    },
    {
      "cell_type": "code",
      "source": [
        "crecimiento = float(input('Digite el porcentaje de crecimiento: '))\n",
        "\n",
        "if crecimiento > 0:\n",
        "  print (f'el crecimiento es positivo {crecimiento}%')\n",
        "else:\n",
        "  print (f'el crecimiento es negativo {crecimiento}%')"
      ],
      "metadata": {
        "id": "Wtbiy9Ay9rGJ",
        "outputId": "443d7c15-6bea-43b5-cdfa-b58ba448e684",
        "colab": {
          "base_uri": "https://localhost:8080/"
        }
      },
      "execution_count": null,
      "outputs": [
        {
          "output_type": "stream",
          "name": "stdout",
          "text": [
            "Digite el porcentaje de crecimiento: -10\n",
            "el crecimiento es negativo -10.0%\n"
          ]
        }
      ]
    },
    {
      "cell_type": "code",
      "source": [
        "vocales = 'a,e,i,o,u,A,E,I,O,U'\n",
        "\n",
        "letra = input ('escriba una letra: ')\n",
        "\n",
        "if letra.isalpha() and len(letra) == 1:\n",
        "    if letra in vocales:\n",
        "        print('La letra es una vocal')\n",
        "    else:\n",
        "        print('La letra es una consonante')\n",
        "else:\n",
        "    print('Error: Solo puedes ingresar una letra del alfabeto')"
      ],
      "metadata": {
        "id": "Yfyz4anY9rIr",
        "outputId": "b0b495fd-0911-40b0-f020-8d8fd4f2b081",
        "colab": {
          "base_uri": "https://localhost:8080/"
        }
      },
      "execution_count": null,
      "outputs": [
        {
          "output_type": "stream",
          "name": "stdout",
          "text": [
            "escriba una letra: t\n",
            "La letra es una consonante\n"
          ]
        }
      ]
    },
    {
      "cell_type": "code",
      "source": [
        "precio_año1 = float(input('escriba el precio promedio del año 1: '))\n",
        "precio_año2 = float(input('escriba el precio promedio del año 2: '))\n",
        "precio_año3 = float(input('escriba el precio promedio del año 3: '))\n",
        "\n",
        "if precio_año1 > precio_año2 and precio_año1 > precio_año3 :\n",
        "  print (f'el precio mas alto es {precio_año1} ')\n",
        "elif precio_año2 > precio_año1 and precio_año2 > precio_año3 :\n",
        "  print (f'el precio mas alto es {precio_año2} ')\n",
        "elif precio_año3 > precio_año1 and precio_año3 > precio_año2 :\n",
        "  print (f'el precio mas alto es {precio_año3} ')\n",
        "\n",
        "if precio_año1 < precio_año2 and precio_año1 < precio_año3 :\n",
        "  print (f'el precio mas bajo es {precio_año1} ')\n",
        "elif precio_año2 < precio_año1 and precio_año2 < precio_año3 :\n",
        "  print (f'el precio mas bajo es {precio_año2} ')\n",
        "elif precio_año3 < precio_año1 and precio_año3 < precio_año2 :\n",
        "  print (f'el precio mas bajo es {precio_año3} ')\n",
        "\n",
        "precios = [precio_año1, precio_año2, precio_año3]\n",
        "\n",
        "# Calcular el valor más alto y el más bajo\n",
        "precio_max = max(precios)\n",
        "precio_min = min(precios)\n",
        "\n",
        "# Mostrar los resultados\n",
        "print(f\"El precio más alto fue: ${precio_max}\")\n",
        "print(f\"El precio más bajo fue: ${precio_min}\")\n"
      ],
      "metadata": {
        "id": "eSR559xyFfRO",
        "outputId": "42e246d8-b062-475f-9b89-7e1bb649d85a",
        "colab": {
          "base_uri": "https://localhost:8080/"
        }
      },
      "execution_count": null,
      "outputs": [
        {
          "output_type": "stream",
          "name": "stdout",
          "text": [
            "escriba el precio promedio del año 1: 4\n",
            "escriba el precio promedio del año 2: 5\n",
            "escriba el precio promedio del año 3: 6\n",
            "el precio mas alto es 6.0 \n",
            "el precio mas bajo es 4.0 \n",
            "El precio más alto fue: $6.0\n",
            "El precio más bajo fue: $4.0\n"
          ]
        }
      ]
    },
    {
      "cell_type": "code",
      "source": [
        "precio_producto1 = float(input('escriba el precio del producto 1: '))\n",
        "precio_producto2 = float(input('escriba el precio del producto 2: '))\n",
        "precio_producto3 = float(input('escriba el precio del producto 3: '))\n",
        "\n",
        "if precio_producto1 < precio_producto2 and precio_producto1 < precio_producto3 :\n",
        "  print (f'el precio mas bajo es {precio_producto1} ')\n",
        "elif precio_producto2 < precio_producto1 and precio_producto2 < precio_producto3 :\n",
        "    print (f'el precio mas bajo es {precio_producto2} ')\n",
        "elif precio_producto3 < precio_producto2 and precio_producto3 < precio_producto1 :\n",
        "    print (f'el precio mas bajo es {precio_producto3} ')\n",
        "\n",
        "precios = [precio_producto1, precio_producto2, precio_producto3]\n",
        "\n",
        "preciomin = min(precios)\n",
        "\n",
        "print(f\"El precio más barato fue: ${preciomin}\")\n"
      ],
      "metadata": {
        "id": "7-DpcOzXFfN3",
        "outputId": "1a2facc2-ebce-4ee0-d87b-c5a0a8d13c09",
        "colab": {
          "base_uri": "https://localhost:8080/"
        }
      },
      "execution_count": null,
      "outputs": [
        {
          "output_type": "stream",
          "name": "stdout",
          "text": [
            "escriba el precio del producto 1: 5\n",
            "escriba el precio del producto 2: 6\n",
            "escriba el precio del producto 3: 7\n",
            "el precio mas bajo es 5.0 \n",
            "El precio más barato fue: $5.0\n"
          ]
        }
      ]
    },
    {
      "cell_type": "code",
      "source": [
        "num1 = float(input('escriba el numero 1: '))\n",
        "num2 = float(input('escriba el numero 2: '))\n",
        "num3 = float(input('escriba el numero 3: '))\n",
        "\n",
        "\n",
        "num = [num1, num2, num3]\n",
        "num.sort(reverse=True)\n",
        "print('los numeros en orden descendente son: ',num)\n",
        "\n",
        "#solucion con solo operadores y condicionales\n",
        "\n",
        "a = float(input(\"Ingresa el primer número: \"))\n",
        "b = float(input(\"Ingresa el segundo número: \"))\n",
        "c = float(input(\"Ingresa el tercer número: \"))\n",
        "\n",
        "if a >= b and b >= c:\n",
        "    print(a, b, c)\n",
        "elif a >= c and c >= b:\n",
        "    print(a, c, b)\n",
        "elif b >= a and a >= c:\n",
        "    print(b, a, c)\n",
        "elif b >= c and c >= a:\n",
        "    print(b, c, a)\n",
        "elif c >= a and a >= b:\n",
        "    print(c, a, b)\n",
        "else:  # c >= b >= a\n",
        "    print(c, b, a)\n"
      ],
      "metadata": {
        "id": "ZDlmKbtXFfJp",
        "outputId": "41445fa0-9f46-446b-ab0d-2e6722715e69",
        "colab": {
          "base_uri": "https://localhost:8080/"
        }
      },
      "execution_count": null,
      "outputs": [
        {
          "output_type": "stream",
          "name": "stdout",
          "text": [
            "escriba el numero 1: 1\n",
            "escriba el numero 2: 2\n",
            "escriba el numero 3: 3\n",
            "los numeros en orden descendente son:  [3.0, 2.0, 1.0]\n",
            "Ingresa el primer número: 1\n",
            "Ingresa el segundo número: 2\n",
            "Ingresa el tercer número: 3\n",
            "3.0 2.0 1.0\n"
          ]
        }
      ]
    },
    {
      "cell_type": "code",
      "source": [
        "turno = input('Escriba su turno entre (mañana , tarde, noche): ')\n",
        "if turno.lower() == \"mañana\":\n",
        "  print('Buenos dias!')\n",
        "elif turno.lower() == \"tarde\":\n",
        "  print('Buenas tardes!')\n",
        "elif turno.lower() == \"noche\":\n",
        "  print('Buenas noches!')\n",
        "else:\n",
        "  print('turno invalido')"
      ],
      "metadata": {
        "id": "gXHgQp6hFfFw",
        "outputId": "6abdfdc2-9cc8-4129-b6aa-2315ffc98cc8",
        "colab": {
          "base_uri": "https://localhost:8080/"
        }
      },
      "execution_count": null,
      "outputs": [
        {
          "output_type": "stream",
          "name": "stdout",
          "text": [
            "Escriba su turno entre (mañana , tarde, noche): NoChe\n",
            "Buenas noches!\n"
          ]
        }
      ]
    },
    {
      "cell_type": "code",
      "source": [
        "a = float(input('Digite un numero: '))\n",
        "res = a % 2\n",
        "if res == 0:\n",
        "  print('par')\n",
        "else:\n",
        "  print('impar')"
      ],
      "metadata": {
        "id": "aKn0sivsFe6l",
        "outputId": "f5428638-1927-4267-e455-ab680fb1b974",
        "colab": {
          "base_uri": "https://localhost:8080/"
        }
      },
      "execution_count": null,
      "outputs": [
        {
          "output_type": "stream",
          "name": "stdout",
          "text": [
            "Digite un numero: 1231331\n",
            "impar\n"
          ]
        }
      ]
    },
    {
      "cell_type": "code",
      "source": [
        "numero = input(\"Ingresa un número: \")\n",
        "\n",
        "numero = float(numero)\n",
        "\n",
        "if numero == int(numero):\n",
        "  print(\"El número es entero.\")\n",
        "else:\n",
        "  print(\"El número es decimal.\")\n",
        "\n",
        "#solucion de chat_gpt\n",
        "\n",
        "try:\n",
        "    numero = float(numero)  # Convertimos a número decimal\n",
        "\n",
        "    if numero.is_integer():  # Verifica si no tiene parte decimal\n",
        "        print(\"El número es entero.\")\n",
        "    else:\n",
        "        print(\"El número es decimal.\")\n",
        "\n",
        "except ValueError:\n",
        "    print(\"Eso no es un número válido.\")\n"
      ],
      "metadata": {
        "id": "k3FwFJoPOtd8",
        "outputId": "e330bfd6-1ad1-4bca-9805-fc592d537fdd",
        "colab": {
          "base_uri": "https://localhost:8080/"
        }
      },
      "execution_count": null,
      "outputs": [
        {
          "output_type": "stream",
          "name": "stdout",
          "text": [
            "Ingresa un número: 5\n",
            "El número es entero.\n",
            "El número es entero.\n"
          ]
        }
      ]
    },
    {
      "cell_type": "code",
      "source": [
        "a = float(input(\"Ingresa el primer número: \"))\n",
        "b = float(input(\"Ingresa el segundo número: \"))\n",
        "\n",
        "operador = input('escriba que operacion quiere realizar (+,-,*,/): ')\n",
        "\n",
        "if operador == \"+\":\n",
        "  print(\"realizaremos una suma\")\n",
        "  r = a+b\n",
        "  print(f\"el resultado es: {r}\")\n",
        "elif operador == \"-\":\n",
        "  print(\"realizaremos una resta\")\n",
        "  r = a-b\n",
        "  print(f\"el resultado es: {r}\")\n",
        "elif operador == \"*\":\n",
        "  print(\"realizaremos un producto\")\n",
        "  r = a*b\n",
        "  print(f\"el resultado es: {r}\")\n",
        "elif operador == \"/\":\n",
        "  print(\"realizaremos una division\")\n",
        "  r = a/b\n",
        "  print(f\"el resultado es: {r}\")\n",
        "else:\n",
        "  print(\"elija una operacion valida\")\n",
        "\n",
        "if  r % 2 == 0 and r >= 0 and r.is_integer() == True:\n",
        "  print(\" es un numero par, positivo y entero \")\n",
        "elif  r % 2 == 0 and r >= 0 and r.is_integer() == False:\n",
        "  print(\" es un numero par, positivo y decimal \")\n",
        "elif  r % 2 == 0 and r < 0 and r.is_integer() == True:\n",
        "  print(\" es un numero par, negativo y entero \")\n",
        "elif  r % 2 == 0 and r < 0 and r.is_integer() == False:\n",
        "  print(\" es un numero par, negativo y decimal \")\n",
        "elif  r % 2 != 0 and r >= 0 and r.is_integer() == True:\n",
        "  print(\" es un numero impar, positivo y entero \")\n",
        "elif  r % 2 != 0 and r >= 0 and r.is_integer() == False:\n",
        "  print(\" es un numero impar, positivo y decimal \")\n",
        "elif  r % 2 != 0 and r < 0 and r.is_integer() == True:\n",
        "  print(\" es un numero impar, negativo y entero \")\n",
        "elif  r % 2 != 0 and r < 0 and r.is_integer() == False:\n",
        "  print(\" es un numero impar, negativo y decimal \")\n",
        "else:\n",
        "  print(\"no es un numero\")\n"
      ],
      "metadata": {
        "id": "G3_i26JNOtZs",
        "colab": {
          "base_uri": "https://localhost:8080/"
        },
        "outputId": "4a7c2735-edbc-4ba0-d605-3269acc03f34"
      },
      "execution_count": null,
      "outputs": [
        {
          "output_type": "stream",
          "name": "stdout",
          "text": [
            "Ingresa el primer número: 4\n",
            "Ingresa el segundo número: -5\n",
            "escriba que operacion quiere realizar (+,-,*,/): /\n",
            "realizaremos una division\n",
            "el resultado es: -0.8\n",
            " es un numero impar, negativo y decimal \n"
          ]
        }
      ]
    },
    {
      "cell_type": "code",
      "source": [
        "a = float(input(\"Ingresa el primer número: \"))\n",
        "b = float(input(\"Ingresa el segundo numero: \"))\n",
        "c = float(input(\"Ingresa el tercer numero: \"))\n",
        "\n",
        "if a+b > c or a+c > b or b+c > a:\n",
        "    print(\"Los números pueden formar un triángulo.\")\n",
        "    if a == b and b == c:\n",
        "        print(\"es un triangulo equilatero\")\n",
        "    elif a == b or b == c or a == c:\n",
        "        print(\"es un triangulo isoceles\")\n",
        "    elif a != b and b != c and a != c:\n",
        "        print(\"es un triangulo escaleno\")\n",
        "else:\n",
        "    print(\"los numeros no pueden formar un tirangulo, intentelo de nuevo\")\n"
      ],
      "metadata": {
        "id": "BjR7jTZcOtWI",
        "colab": {
          "base_uri": "https://localhost:8080/"
        },
        "outputId": "6bb9856f-3c2d-40fb-d849-98dd2c7e30f7"
      },
      "execution_count": null,
      "outputs": [
        {
          "output_type": "stream",
          "name": "stdout",
          "text": [
            "Ingresa el primer número: 5.2\n",
            "Ingresa el segundo numero: 5.2\n",
            "Ingresa el tercer numero: 5.2\n",
            "Los números pueden formar un triángulo.\n",
            "es un triangulo equilatero\n"
          ]
        }
      ]
    },
    {
      "cell_type": "code",
      "source": [
        "etanol = 1.70\n",
        "diesel = 2.00\n",
        "\n",
        "compra1 = float(input(\"ingrese la cantidad de litros de etanol a comprar: \"))\n",
        "if compra1 < 15:\n",
        "    des_etanol = 0.02\n",
        "else:\n",
        "    des_etanol = 0.04\n",
        "print(f\"el descuento es de {des_etanol}\")\n",
        "\n",
        "compra2 = float(input(\"ingrese la cantidad de litros de diesel a comprar: \"))\n",
        "if compra2 < 15:\n",
        "    des_diesel = 0.03\n",
        "else:\n",
        "    des_diesel = 0.05\n",
        "print(f\"el descuento es de {des_diesel}\")\n",
        "\n",
        "valor_desc_etanol = etanol * compra1 * des_etanol\n",
        "valor_desc_diesel = diesel * compra2 * des_diesel\n",
        "print(f\" el valor del descuento del etanol es {valor_desc_etanol} y el valor de descuento del diesel es {valor_desc_diesel}\")\n",
        "valor_tot_etanol = ((etanol * compra1) - valor_desc_etanol )\n",
        "valor_tot_diesel = ((diesel * compra2) - valor_desc_diesel )\n",
        "\n",
        "valor_total = valor_tot_etanol + valor_tot_diesel\n",
        "print(f\"el valor a pagar del etanol es: {valor_tot_etanol} y el valor a pagar del diesel es: {valor_tot_diesel}, /n entonces el valor total es {valor_total}\")"
      ],
      "metadata": {
        "id": "NOvq_OutOtN4",
        "colab": {
          "base_uri": "https://localhost:8080/"
        },
        "outputId": "5560de39-e878-4d29-a4b4-d7a7ce3de515"
      },
      "execution_count": null,
      "outputs": [
        {
          "output_type": "stream",
          "name": "stdout",
          "text": [
            "ingrese la cantidad de litros de etanol a comprar: 50\n",
            "el descuento es de 0.04\n",
            "ingrese la cantidad de litros de diesel a comprar: 10\n",
            "el descuento es de 0.03\n",
            " el valor del descuento del etanol es 3.4 y el valor de descuento del diesel es 0.6\n",
            "el valor a pagar del etanol es: 81.6 y el valor a pagar del diesel es: 19.4, /n entonces el valor total es 101.0\n"
          ]
        }
      ]
    },
    {
      "cell_type": "code",
      "source": [
        "\n",
        "v_2022 = float(input(\"Ingresa las ventas del año 2022: \"))\n",
        "v_2023 = float(input(\"Ingresa las ventas del año 2023: \"))\n",
        "\n",
        "v_porcentual = ((v_2023 - v_2022)/v_2022)*100\n",
        "print(f\"la variacion porcentual es {v_porcentual}\")\n",
        "\n",
        "if v_porcentual > 25:\n",
        "    print(f\"se le dara una bonificacion a los trabajadores\")\n",
        "elif v_porcentual >= 2 and v_porcentual <= 25:\n",
        "    print(\" se dara una pequeña bonificacion a los trabajadores\")\n",
        "elif v_porcentual >= -10 and v_porcentual < 2:\n",
        "    print(\" se deben modificar la politicas de incentivo a las ventas\")\n",
        "elif v_porcentual < -10:\n",
        "    print(\"se deben recortar gastos\")"
      ],
      "metadata": {
        "colab": {
          "base_uri": "https://localhost:8080/"
        },
        "id": "w6dODq2YO3jC",
        "outputId": "18aa05db-c1fb-4ba8-c332-821d56d7960f"
      },
      "execution_count": null,
      "outputs": [
        {
          "output_type": "stream",
          "name": "stdout",
          "text": [
            "Ingresa las ventas del año 2022: 20000\n",
            "Ingresa las ventas del año 2023: 22000\n",
            "la variacion porcentual es 10.0\n",
            " se dara una pequeña bonificacion a los trabajadores\n"
          ]
        }
      ]
    },
    {
      "cell_type": "markdown",
      "source": [
        "# Estructuras de repetición"
      ],
      "metadata": {
        "id": "aL1vJPewvwvz"
      }
    },
    {
      "cell_type": "markdown",
      "source": [
        "Cuando tenemos que ejecutar un mismo bloque de comandos durante varias ocasiones no es nada práctico hacerlo a mano.\n",
        "\n",
        "**Situación**: Nos fue solicitado obtener e imprimir el promedio de 2 notas de **3 estudantes**:"
      ],
      "metadata": {
        "id": "VcPfCa8d-84t"
      }
    },
    {
      "cell_type": "code",
      "source": [
        "a = float(input(\"Ingresa la nota 1: \"))\n",
        "b = float(input(\"Ingresa el nota 2: \"))\n",
        "prom = (a+b) / 2\n",
        "print(f\"el promedio de las notas del estudiante 1 fue: {prom}\")\n",
        "\n",
        "a = float(input(\"Ingresa la nota 1: \"))\n",
        "b = float(input(\"Ingresa el nota 2: \"))\n",
        "prom = (a+b) / 2\n",
        "print(f\"el promedio de las notas del estudiante 2 fue: {prom}\")\n",
        "\n",
        "a = float(input(\"Ingresa la nota 1: \"))\n",
        "b = float(input(\"Ingresa el nota 2: \"))\n",
        "prom = (a+b) / 2\n",
        "print(f\"el promedio de las notas del estudiante 3 fue: {prom}\")"
      ],
      "metadata": {
        "colab": {
          "base_uri": "https://localhost:8080/"
        },
        "id": "kaebFWUV7tFE",
        "outputId": "2d99f8d5-54dd-40d0-8c9b-a12d9e63d44b"
      },
      "execution_count": null,
      "outputs": [
        {
          "output_type": "stream",
          "name": "stdout",
          "text": [
            "Ingresa la nota 1: 5\n",
            "Ingresa el nota 2: 5\n",
            "el promedio de las notas del estudiante 1 fue: 5.0\n",
            "Ingresa la nota 1: 6\n",
            "Ingresa el nota 2: 7\n",
            "el promedio de las notas del estudiante 2 fue: 6.5\n",
            "Ingresa la nota 1: 9\n",
            "Ingresa el nota 2: 10\n",
            "el promedio de las notas del estudiante 3 fue: 9.5\n"
          ]
        }
      ]
    },
    {
      "cell_type": "markdown",
      "source": [
        "Ahora imaginemos una situación en que no son tan solo 3 estudiantes, sino 100 estudiantes. No sería nada interesante repetir el mismo código 100 veces, sino **ejecutar el mismo código 100 veces**.\n",
        "\n",
        "¡Esta estructura la logramos construir con lazos de repetición!"
      ],
      "metadata": {
        "id": "9puIuvUbFSFX"
      }
    },
    {
      "cell_type": "markdown",
      "source": [
        "## `WHILE`"
      ],
      "metadata": {
        "id": "uLO9-aE4-wx8"
      }
    },
    {
      "cell_type": "markdown",
      "source": [
        "El lazo `while` es una estructura de control de repetición en Python que permite ejecutar un bloque de código repetidamente mientras que una determinada condición sea verdadera. Su estructura es:\n",
        "\n",
        "\n",
        "\n",
        "```\n",
        "while condicion:\n",
        "    # bloque de codigo\n",
        "```\n",
        "\n",
        "Vamos a construir un ejemplo con un contador de 1 hasta 10.\n"
      ],
      "metadata": {
        "id": "rXZxDMiqHxm9"
      }
    },
    {
      "cell_type": "code",
      "source": [
        "contador = 1\n",
        "while contador <= 10:\n",
        "  print(contador)\n",
        "  contador += 1"
      ],
      "metadata": {
        "id": "Hd0ZSWxD9wCD",
        "colab": {
          "base_uri": "https://localhost:8080/"
        },
        "outputId": "fc59bc01-7d29-403f-f218-b1e2ce5c95eb"
      },
      "execution_count": null,
      "outputs": [
        {
          "output_type": "stream",
          "name": "stdout",
          "text": [
            "1\n",
            "2\n",
            "3\n",
            "4\n",
            "5\n",
            "6\n",
            "7\n",
            "8\n",
            "9\n",
            "10\n"
          ]
        }
      ]
    },
    {
      "cell_type": "code",
      "source": [],
      "metadata": {
        "id": "miFHNqp29nOL"
      },
      "execution_count": null,
      "outputs": []
    },
    {
      "cell_type": "markdown",
      "source": [
        "Ahora vamos a colectar las notas y promedios de cada alumno dentro del lazo `while`. Haremos un ejemplo con 3 promedios."
      ],
      "metadata": {
        "id": "W4KZPBJuIrut"
      }
    },
    {
      "cell_type": "code",
      "source": [
        "n_estudiantes = input(\"cuantos estudiantes son: \")\n",
        "contador=1\n",
        "while contador <= int(n_estudiantes):\n",
        "  a = float(input(\"Ingresa la nota 1: \"))\n",
        "  b = float(input(\"Ingresa el nota 2: \"))\n",
        "  prom = (a+b) / 2\n",
        "  print(f\"el promedio de las notas del estudiante {contador} fue: {prom}\")\n",
        "  contador += 1"
      ],
      "metadata": {
        "id": "9T5eCLFx9wk6",
        "colab": {
          "base_uri": "https://localhost:8080/"
        },
        "outputId": "4d81e129-beef-4f57-aa7b-988a944eba8f"
      },
      "execution_count": null,
      "outputs": [
        {
          "output_type": "stream",
          "name": "stdout",
          "text": [
            "cuantos estudiantes son: 3\n",
            "Ingresa la nota 1: 5\n",
            "Ingresa el nota 2: 5\n",
            "el promedio de las notas del estudiante 1 fue: 5.0\n",
            "Ingresa la nota 1: 6\n",
            "Ingresa el nota 2: 7\n",
            "el promedio de las notas del estudiante 2 fue: 6.5\n",
            "Ingresa la nota 1: 9\n",
            "Ingresa el nota 2: 10\n",
            "el promedio de las notas del estudiante 3 fue: 9.5\n"
          ]
        }
      ]
    },
    {
      "cell_type": "code",
      "source": [],
      "metadata": {
        "id": "P6E0_dW-9lZ9"
      },
      "execution_count": null,
      "outputs": []
    },
    {
      "cell_type": "markdown",
      "source": [
        "## `FOR`"
      ],
      "metadata": {
        "id": "WgAIaENMMfCP"
      }
    },
    {
      "cell_type": "markdown",
      "source": [
        "El lazo `for` es un tipo de estructura de control de flujo en Python que permite iterar sobre un conjunto de elementos. Su estructura es:\n",
        "\n",
        "\n",
        "\n",
        "```\n",
        "for elemento in conjunto:\n",
        "    # codigo a ser ejecutado para cada elemento\n",
        "```\n",
        "\n",
        "El lazo `for` itera sobre cada elemento del conjunto especificado y ejecuta el bloque de código dentro del lazo para cada elemento. Cuando el lazo llega al final del conjunto, este se interrumpe y el programa continúa la ejecución después del lazo.\n",
        "\n"
      ],
      "metadata": {
        "id": "HxrSZoRAMh-x"
      }
    },
    {
      "cell_type": "markdown",
      "source": [
        "El conjunto lo podemos generar con la función incorporada [`range()`](https://docs.python.org/3/library/functions.html#func-range). Se trata de una función capaz de generar una secuencia de números enteros. La estructura de esta función es:\n",
        "\n",
        "```\n",
        "range(inicio, fin, paso)\n",
        "```\n",
        "\n",
        "Según la documentación, `range()` genera una secuencia de números enteros a partir del valor del parámetro `inicio` hasta el valor del parámetro `fin`, de acuerdo con el valor del parámetro `paso`. Si `inicio` no es especificado, el valor por defecto es `0`. Si `paso` no es especificado, el valor por defecto es `1`.\n",
        "\n",
        "\n"
      ],
      "metadata": {
        "id": "6VgjyoQtPHBM"
      }
    },
    {
      "cell_type": "markdown",
      "source": [
        "Vamos a recrear el mismo contador `while` con el lazo `for`."
      ],
      "metadata": {
        "id": "ryn0hfdlUwC8"
      }
    },
    {
      "cell_type": "code",
      "source": [
        "for n in range(1, 11, 1):\n",
        "  print(n)"
      ],
      "metadata": {
        "id": "KkL1wUIj9jL4",
        "colab": {
          "base_uri": "https://localhost:8080/"
        },
        "outputId": "99f083f6-dab0-4c20-c1d6-79eab9d8fb7b"
      },
      "execution_count": null,
      "outputs": [
        {
          "output_type": "stream",
          "name": "stdout",
          "text": [
            "1\n",
            "2\n",
            "3\n",
            "4\n",
            "5\n",
            "6\n",
            "7\n",
            "8\n",
            "9\n",
            "10\n"
          ]
        }
      ]
    },
    {
      "cell_type": "code",
      "source": [
        "for e in range ( 1, 4, 1):\n",
        "  a = float(input(\"Ingresa la nota 1: \"))\n",
        "  b = float(input(\"Ingresa el nota 2: \"))\n",
        "  prom = (a+b) / 2\n",
        "  print(f\"el promedio de las notas del estudiante {e} fue: {prom}\")\n"
      ],
      "metadata": {
        "id": "uXIZnLSr9jOu",
        "colab": {
          "base_uri": "https://localhost:8080/"
        },
        "outputId": "d1095c42-d4f6-4587-dee7-e55acddd0359"
      },
      "execution_count": null,
      "outputs": [
        {
          "output_type": "stream",
          "name": "stdout",
          "text": [
            "Ingresa la nota 1: 5\n",
            "Ingresa el nota 2: 5\n",
            "el promedio de las notas del estudiante 1 fue: 5.0\n",
            "Ingresa la nota 1: 6\n",
            "Ingresa el nota 2: 7\n",
            "el promedio de las notas del estudiante 2 fue: 6.5\n",
            "Ingresa la nota 1: 9\n",
            "Ingresa el nota 2: 10\n",
            "el promedio de las notas del estudiante 3 fue: 9.5\n"
          ]
        }
      ]
    },
    {
      "cell_type": "code",
      "source": [],
      "metadata": {
        "id": "NG2gWPiyA5To"
      },
      "execution_count": null,
      "outputs": []
    },
    {
      "cell_type": "code",
      "source": [
        "tasa_a = 0.03\n",
        "tasa_b = 0.015\n",
        "\n",
        "n_colonia_a = 4\n",
        "n_colonia_b = 10\n",
        "n_dias = 0\n",
        "\n",
        "while n_colonia_a < n_colonia_b:\n",
        "  n_colonia_a = (n_colonia_a * tasa_a)+n_colonia_a\n",
        "  n_colonia_b = (n_colonia_b * tasa_b)+n_colonia_b\n",
        "  n_dias += 1\n",
        "print(f\"el numero de dias fue {n_dias} y hay {n_colonia_a} elementos en a y {n_colonia_b} elementos en b\")\n",
        "\n",
        "# Valores iniciales\n",
        "bacteria_A = 4\n",
        "bacteria_B = 10\n",
        "\n",
        "# Tasas de crecimiento\n",
        "crecimiento_A = 0.03\n",
        "crecimiento_B = 0.015\n",
        "\n",
        "# Contador de días\n",
        "dias = 0\n",
        "\n",
        "# Ciclo hasta que A alcance o supere a B\n",
        "while bacteria_A < bacteria_B:\n",
        "    bacteria_A *= (1 + crecimiento_A)\n",
        "    bacteria_B *= (1 + crecimiento_B)\n",
        "    dias += 1\n",
        "\n",
        "# Resultados\n",
        "print(f\"La bacteria A superará o igualará a la bacteria B en {dias} días.\")\n",
        "print(f\"Tamaño final aproximado: A = {bacteria_A:.2f}, B = {bacteria_B:.2f}\")"
      ],
      "metadata": {
        "colab": {
          "base_uri": "https://localhost:8080/"
        },
        "id": "Nz_CsfVfFPNZ",
        "outputId": "911fc0c9-a098-4b07-8488-6b5d5555dfeb"
      },
      "execution_count": null,
      "outputs": [
        {
          "output_type": "stream",
          "name": "stdout",
          "text": [
            "el numero de dias fue 63 y hay 25.75165514029833 elementos en a y 25.54822084811115 elementos en b\n",
            "La bacteria A superará o igualará a la bacteria B en 63 días.\n",
            "Tamaño final aproximado: A = 25.75, B = 25.55\n"
          ]
        }
      ]
    },
    {
      "cell_type": "code",
      "source": [
        "eval = 15\n",
        "for n in range(1, eval+1):\n",
        "  calif = float(input(f\"calificacion {n}, digite un numero entre 0 y 5: \"))\n",
        "  while calif < 0 or calif > 5:\n",
        "    print(f\"la calificacion {n} no es valida, digite nuevamente entre 0 y 5\")\n",
        "    calif = float(input(\"digite un numero: \"))\n",
        "  print(f\"la calificacion es valida\")\n"
      ],
      "metadata": {
        "colab": {
          "base_uri": "https://localhost:8080/"
        },
        "id": "Cb2LXsJNJLDB",
        "outputId": "bececfc4-4695-4600-b04a-cbc0989109dc"
      },
      "execution_count": null,
      "outputs": [
        {
          "output_type": "stream",
          "name": "stdout",
          "text": [
            "calificacion 1, digite un numero entre 0 y 5: 1\n",
            "la calificacion es valida\n",
            "calificacion 2, digite un numero entre 0 y 5: 5.2\n",
            "la calificacion 2 no es valida, digite nuevamente entre 0 y 5\n",
            "digite un numero: 5.1\n",
            "la calificacion 2 no es valida, digite nuevamente entre 0 y 5\n",
            "digite un numero: 5\n",
            "la calificacion es valida\n",
            "calificacion 3, digite un numero entre 0 y 5: 5\n",
            "la calificacion es valida\n",
            "calificacion 4, digite un numero entre 0 y 5: 5\n",
            "la calificacion es valida\n",
            "calificacion 5, digite un numero entre 0 y 5: 5\n",
            "la calificacion es valida\n",
            "calificacion 6, digite un numero entre 0 y 5: 5\n",
            "la calificacion es valida\n",
            "calificacion 7, digite un numero entre 0 y 5: 5\n",
            "la calificacion es valida\n",
            "calificacion 8, digite un numero entre 0 y 5: 6\n",
            "la calificacion 8 no es valida, digite nuevamente entre 0 y 5\n",
            "digite un numero: 6\n",
            "la calificacion 8 no es valida, digite nuevamente entre 0 y 5\n",
            "digite un numero: 5\n",
            "la calificacion es valida\n",
            "calificacion 9, digite un numero entre 0 y 5: 0.2\n",
            "la calificacion es valida\n",
            "calificacion 10, digite un numero entre 0 y 5: 0.5\n",
            "la calificacion es valida\n",
            "calificacion 11, digite un numero entre 0 y 5: -1\n",
            "la calificacion 11 no es valida, digite nuevamente entre 0 y 5\n",
            "digite un numero: 5\n",
            "la calificacion es valida\n",
            "calificacion 12, digite un numero entre 0 y 5: 5\n",
            "la calificacion es valida\n",
            "calificacion 13, digite un numero entre 0 y 5: 5\n",
            "la calificacion es valida\n",
            "calificacion 14, digite un numero entre 0 y 5: 5\n",
            "la calificacion es valida\n",
            "calificacion 15, digite un numero entre 0 y 5: 9\n",
            "la calificacion 15 no es valida, digite nuevamente entre 0 y 5\n",
            "digite un numero: 9.2\n",
            "la calificacion 15 no es valida, digite nuevamente entre 0 y 5\n",
            "digite un numero: 5.2\n",
            "la calificacion 15 no es valida, digite nuevamente entre 0 y 5\n",
            "digite un numero: 5\n",
            "la calificacion es valida\n"
          ]
        }
      ]
    },
    {
      "cell_type": "code",
      "source": [
        "entrada = 1\n",
        "sum_tem = 0\n",
        "promedio = 0\n",
        "while True:\n",
        "  celsius= int(input(\"ingrese las temperaturas para calcular el promedio, (pulse -273 para detener): \"))\n",
        "  if celsius == -273:\n",
        "    print(f\"el promedio final fue: {promedio:.2f} °C y hubieron {entrada} entradas\")\n",
        "    break\n",
        "  else:\n",
        "    sum_tem += celsius\n",
        "  promedio = sum_tem / entrada\n",
        "  entrada += 1\n",
        "  print(f\"el promedio va en {promedio:.2f}\")\n"
      ],
      "metadata": {
        "colab": {
          "base_uri": "https://localhost:8080/"
        },
        "id": "AuiBrwZmOYim",
        "outputId": "dad1417c-9a11-46e0-ac5e-c98b44858486"
      },
      "execution_count": null,
      "outputs": [
        {
          "output_type": "stream",
          "name": "stdout",
          "text": [
            "ingrese las temperaturas para calcular el promedio, (pulse -273 para detener): 5\n",
            "el promedio va en 5.00\n",
            "ingrese las temperaturas para calcular el promedio, (pulse -273 para detener): 5\n",
            "el promedio va en 5.00\n",
            "ingrese las temperaturas para calcular el promedio, (pulse -273 para detener): 6\n",
            "el promedio va en 5.33\n",
            "ingrese las temperaturas para calcular el promedio, (pulse -273 para detener): 5\n",
            "el promedio va en 5.25\n",
            "ingrese las temperaturas para calcular el promedio, (pulse -273 para detener): 10\n",
            "el promedio va en 6.20\n",
            "ingrese las temperaturas para calcular el promedio, (pulse -273 para detener): 5\n",
            "el promedio va en 6.00\n",
            "ingrese las temperaturas para calcular el promedio, (pulse -273 para detener): 8\n",
            "el promedio va en 6.29\n",
            "ingrese las temperaturas para calcular el promedio, (pulse -273 para detener): -273\n",
            "el promedio final fue: 6.29 °C y hubieron 8 entradas\n"
          ]
        }
      ]
    },
    {
      "cell_type": "code",
      "source": [
        "suma = 0\n",
        "contador = 0\n",
        "\n",
        "while True:\n",
        "    temp = float(input(\"Temperatura: \"))\n",
        "\n",
        "    if temp == -273:\n",
        "        break  # salir del bucle\n",
        "\n",
        "    suma += temp\n",
        "    contador += 1\n",
        "\n",
        "# Verificamos que se hayan ingresado temperaturas válidas\n",
        "if contador > 0:\n",
        "    promedio = suma / contador\n",
        "    print(f\"\\n🌡️ Promedio de las temperaturas ingresadas: {promedio:.2f} °C\")\n",
        "else:\n",
        "    print(\"No se ingresaron temperaturas válidas.\")\n"
      ],
      "metadata": {
        "colab": {
          "base_uri": "https://localhost:8080/"
        },
        "id": "T5CnZC_xRGxd",
        "outputId": "b2a29673-bfa8-436a-fb12-6ac88a83d749"
      },
      "execution_count": null,
      "outputs": [
        {
          "output_type": "stream",
          "name": "stdout",
          "text": [
            "Temperatura: -273\n",
            "No se ingresaron temperaturas válidas.\n"
          ]
        }
      ]
    },
    {
      "cell_type": "code",
      "source": [
        "n = int(input(\"Digita un numero para calcular su factorial: \"))\n",
        "factorial = 1\n",
        "\n",
        "if n < 0:\n",
        "    print(\"No existe el factorial de un número negativo.\")\n",
        "elif n == 0:\n",
        "    print(\"El factorial de 0 es 1.\")\n",
        "else:\n",
        "  for i in range(1, n+1):\n",
        "    factorial *= i\n",
        "  print(factorial)\n"
      ],
      "metadata": {
        "id": "LzZ4RW9SGirD",
        "outputId": "e87e594c-7b1f-4bd3-b808-868fa75cb518",
        "colab": {
          "base_uri": "https://localhost:8080/"
        }
      },
      "execution_count": null,
      "outputs": [
        {
          "output_type": "stream",
          "name": "stdout",
          "text": [
            "Digita un numero para calcular su factorial: 4\n",
            "24\n"
          ]
        }
      ]
    },
    {
      "cell_type": "code",
      "source": [
        "d = int(input(\"ingrese un numero entre 0 y 10: \"))\n",
        "\n",
        "if d >= 0 and d <=10:\n",
        "  for i in range(1, 11):\n",
        "    print(f\"{d} x {i} = {d*i}\")\n",
        "else:\n",
        "  print(\"el numero ingresado no esta entre 0 y 10\")"
      ],
      "metadata": {
        "id": "h6QYTVJJGiMS",
        "outputId": "c237678d-2395-4402-d263-c9f729a04605",
        "colab": {
          "base_uri": "https://localhost:8080/"
        }
      },
      "execution_count": null,
      "outputs": [
        {
          "output_type": "stream",
          "name": "stdout",
          "text": [
            "ingrese un numero entre 0 y 10: 10\n",
            "10 x 1 = 10\n",
            "10 x 2 = 20\n",
            "10 x 3 = 30\n",
            "10 x 4 = 40\n",
            "10 x 5 = 50\n",
            "10 x 6 = 60\n",
            "10 x 7 = 70\n",
            "10 x 8 = 80\n",
            "10 x 9 = 90\n",
            "10 x 10 = 100\n"
          ]
        }
      ]
    },
    {
      "cell_type": "code",
      "source": [
        "num = int(input(\"Ingresa un número entero: \"))\n",
        "\n",
        "if num <= 1:\n",
        "    print(\"No es un número primo.\")\n",
        "else:\n",
        "    es_primo = True\n",
        "    for i in range(2, int(num ** 0.5) + 1):\n",
        "        if num % i == 0:\n",
        "            es_primo = False\n",
        "            break\n",
        "\n",
        "    if es_primo:\n",
        "        print(f\"{num} es un número primo.\")\n",
        "    else:\n",
        "        print(f\"{num} no es un número primo.\")"
      ],
      "metadata": {
        "id": "JlvG9qnpJPnW",
        "outputId": "69bcca4f-43a4-4252-d363-25856b414d51",
        "colab": {
          "base_uri": "https://localhost:8080/"
        }
      },
      "execution_count": null,
      "outputs": [
        {
          "output_type": "stream",
          "name": "stdout",
          "text": [
            "Ingresa un número entero: 5\n",
            "5 es un número primo.\n"
          ]
        }
      ]
    },
    {
      "cell_type": "code",
      "source": [
        "d1 = 0\n",
        "d2 = 0\n",
        "d3 = 0\n",
        "d4 = 0\n",
        "while True:\n",
        "  x = int(input(\"ingresa edades, (para detener ingresa un numero negativo): \"))\n",
        "  if x < 0:\n",
        "    break\n",
        "  elif x >= 0 and x <= 25:\n",
        "    d1 += 1\n",
        "  elif x > 25 and x <= 50:\n",
        "    d2 += 1\n",
        "  elif x > 50 and x <= 75:\n",
        "    d3 += 1\n",
        "  elif x > 75 and x <= 100:\n",
        "    d4 += 1\n",
        "  else:\n",
        "    print(\"Edad fuera del rango de análisis (0-100). No será contada.\")\n",
        "print(f\"la distribucion quedo asi: 0-25 => {d1}, 26-50 => {d2}, 51-75 => {d3}, 76-100 => {d4}\")"
      ],
      "metadata": {
        "id": "frAETK0EJPk-",
        "outputId": "41ef0e93-b008-40f4-ce6f-bc4a81b7f6e2",
        "colab": {
          "base_uri": "https://localhost:8080/"
        }
      },
      "execution_count": null,
      "outputs": [
        {
          "output_type": "stream",
          "name": "stdout",
          "text": [
            "ingresa edades, (para detener ingresa un numero negativo): 34\n",
            "ingresa edades, (para detener ingresa un numero negativo): 34\n",
            "ingresa edades, (para detener ingresa un numero negativo): 54\n",
            "ingresa edades, (para detener ingresa un numero negativo): 67\n",
            "ingresa edades, (para detener ingresa un numero negativo): 34\n",
            "ingresa edades, (para detener ingresa un numero negativo): -1\n",
            "la distribucion quedo asi: 0-25 => 0, 26-50 => 3, 51-75 => 2, 76-100 => 0\n"
          ]
        }
      ]
    },
    {
      "cell_type": "code",
      "source": [
        "# Inicializar contadores\n",
        "votos_candidato_1 = 0\n",
        "votos_candidato_2 = 0\n",
        "votos_candidato_3 = 0\n",
        "votos_candidato_4 = 0\n",
        "votos_nulos = 0\n",
        "votos_blancos = 0\n",
        "\n",
        "# Total de empleados que votan\n",
        "total_votantes = 6\n",
        "\n",
        "# Recolectar los votos\n",
        "for i in range(1, total_votantes + 1):\n",
        "    voto = int(input(f\"Ingrese el voto del empleado #{i} (1-4=candidatos, 5=nulo, 6=blanco): \"))\n",
        "\n",
        "    if voto == 1:\n",
        "        votos_candidato_1 += 1\n",
        "    elif voto == 2:\n",
        "        votos_candidato_2 += 1\n",
        "    elif voto == 3:\n",
        "        votos_candidato_3 += 1\n",
        "    elif voto == 4:\n",
        "        votos_candidato_4 += 1\n",
        "    elif voto == 5:\n",
        "        votos_nulos += 1\n",
        "    elif voto == 6:\n",
        "        votos_blancos += 1\n",
        "    else:\n",
        "        print(\"Voto inválido. No se contará.\")\n",
        "\n",
        "# Calcular porcentajes\n",
        "porcentaje_nulos = (votos_nulos / total_votantes) * 100\n",
        "porcentaje_blancos = (votos_blancos / total_votantes) * 100\n",
        "\n",
        "# Mostrar resultados\n",
        "print(\"\\nResultados de la elección:\")\n",
        "print(f\"Candidato 1: {votos_candidato_1} votos\")\n",
        "print(f\"Candidato 2: {votos_candidato_2} votos\")\n",
        "print(f\"Candidato 3: {votos_candidato_3} votos\")\n",
        "print(f\"Candidato 4: {votos_candidato_4} votos\")\n",
        "print(f\"Votos nulos: {votos_nulos}\")\n",
        "print(f\"Votos en blanco: {votos_blancos}\")\n",
        "print(f\"Porcentaje de votos nulos: {porcentaje_nulos:.2f}%\")\n",
        "print(f\"Porcentaje de votos en blanco: {porcentaje_blancos:.2f}%\")\n",
        "\n",
        "# Determinar al ganador\n",
        "candidatos = [votos_candidato_1, votos_candidato_2, votos_candidato_3, votos_candidato_4]\n",
        "max_votos = max(candidatos)\n",
        "\n",
        "# Revisar si hay empate\n",
        "if candidatos.count(max_votos) == 1:\n",
        "    ganador = candidatos.index(max_votos) + 1\n",
        "    print(f\"\\nEl ganador de la elección es el CANDIDATO {ganador}.\")\n",
        "else:\n",
        "    print(\"\\nHubo un EMPATE entre los candidatos con mayor cantidad de votos.\")\n"
      ],
      "metadata": {
        "id": "PjayXJ-CRism",
        "outputId": "451d3593-1ce3-4dbc-e345-ca0a5741d0f9",
        "colab": {
          "base_uri": "https://localhost:8080/"
        }
      },
      "execution_count": null,
      "outputs": [
        {
          "output_type": "stream",
          "name": "stdout",
          "text": [
            "Ingrese el voto del empleado #1 (1-4=candidatos, 5=nulo, 6=blanco): 5\n",
            "Ingrese el voto del empleado #2 (1-4=candidatos, 5=nulo, 6=blanco): 5\n",
            "Ingrese el voto del empleado #3 (1-4=candidatos, 5=nulo, 6=blanco): 1\n",
            "Ingrese el voto del empleado #4 (1-4=candidatos, 5=nulo, 6=blanco): 1\n",
            "Ingrese el voto del empleado #5 (1-4=candidatos, 5=nulo, 6=blanco): 2\n",
            "Ingrese el voto del empleado #6 (1-4=candidatos, 5=nulo, 6=blanco): 3\n",
            "\n",
            "Resultados de la elección:\n",
            "Candidato 1: 2 votos\n",
            "Candidato 2: 1 votos\n",
            "Candidato 3: 1 votos\n",
            "Candidato 4: 0 votos\n",
            "Votos nulos: 2\n",
            "Votos en blanco: 0\n",
            "Porcentaje de votos nulos: 33.33%\n",
            "Porcentaje de votos en blanco: 0.00%\n",
            "\n",
            "El ganador de la elección es el CANDIDATO 1.\n"
          ]
        }
      ]
    },
    {
      "cell_type": "code",
      "source": [
        "x = 5\n",
        "c1 = 0\n",
        "c2 = 0\n",
        "c3 = 0\n",
        "c4 = 0\n",
        "c5 = 0\n",
        "c6 = 0\n",
        "c0 = 0\n",
        "\n",
        "for i in range(1, x+1):\n",
        "  c0 += 1\n",
        "  v = int(input(\"vote por el candidato de su eleccion, o en blanco, (si vota por algo diferente sera nulo): \"))\n",
        "  if v == 1 or v == 2 or v == 3 or v == 4 or v == 6:\n",
        "    print(\"tu voto es valido\")\n",
        "    if v == 1:\n",
        "      c1 += 1\n",
        "    elif v == 2:\n",
        "      c2 += 1\n",
        "    elif v == 3:\n",
        "      c3 += 1\n",
        "    elif v == 4:\n",
        "      c4 += 1\n",
        "    elif v == 6:\n",
        "      c6 += 1\n",
        "  else:\n",
        "    print(\"voto invalido se contara como nulo\")\n",
        "    c5 += 1\n",
        "porcentaje_nulos = (c5 / x) * 100\n",
        "porcentaje_blancos = (c6 / x) * 100\n",
        "print(f\"el conteo total de votos es {c0}, y se distribuye asi: \")\n",
        "print(f\"candidato 1: {c1} votos.\")\n",
        "print(f\"candidato 2: {c2} votos.\")\n",
        "print(f\"candidato 3: {c3} votos.\")\n",
        "print(f\"candidato 4: {c4} votos.\")\n",
        "print(f\"los votos nulos son: {c5} votos y su porcentaje es: {porcentaje_nulos}.\")\n",
        "print(f\"los votos en blanco sos: {c6} votos y su porcentaje es: {porcentaje_blancos}.\")\n",
        "candidatos = [c1, c2, c3, c4]\n",
        "win = max(candidatos)\n",
        "\n",
        "if candidatos.count(win) == 1:\n",
        "    ganador = candidatos.index(win) + 1\n",
        "    print(f\"\\nEl ganador de la elección es el CANDIDATO {ganador}.\")\n",
        "else:\n",
        "    print(\"\\nHubo un EMPATE entre los candidatos con mayor cantidad de votos.\")"
      ],
      "metadata": {
        "id": "LiC_bFELSlwf"
      },
      "execution_count": null,
      "outputs": []
    },
    {
      "cell_type": "markdown",
      "source": [
        "# Estructuras de datos"
      ],
      "metadata": {
        "id": "8noP8OJ0Vhux"
      }
    },
    {
      "cell_type": "markdown",
      "source": [
        "Un conjunto de elementos es una colección de items, que son almacenados juntos de manera organizada. Algunos ejemplos de conjuntos de elementos en Python son las listas, los strings y los diccionarios."
      ],
      "metadata": {
        "id": "xpEUkefTu8fY"
      }
    },
    {
      "cell_type": "markdown",
      "source": [
        "## Listas"
      ],
      "metadata": {
        "id": "THSg4KYLwxIb"
      }
    },
    {
      "cell_type": "markdown",
      "source": [
        "Las listas pueden almacenar una colección de items en orden. Ellas son delimitadas por corchetes `[]` y sus elementos son separados por comas.\n",
        "\n",
        "Estas pueden almacenar cualquier tipo de items, incluyendo números, strings, objetos, otras listas, entre otros. También nos permiten almacenar items de tipos de datos diferentes juntos en una única lista."
      ],
      "metadata": {
        "id": "dzpsiqrOyJcK"
      }
    },
    {
      "cell_type": "code",
      "source": [
        "lista = ['Penélope Camacho',9.5,9.0,9.7,True]\n",
        "lista"
      ],
      "metadata": {
        "id": "DO3TBj7nAYeG",
        "colab": {
          "base_uri": "https://localhost:8080/"
        },
        "outputId": "fbee2eb5-265e-4b5b-badf-a0dd9331074b"
      },
      "execution_count": null,
      "outputs": [
        {
          "output_type": "execute_result",
          "data": {
            "text/plain": [
              "['Penélope Camacho', 9.5, 9.0, 9.7, True]"
            ]
          },
          "metadata": {},
          "execution_count": 62
        }
      ]
    },
    {
      "cell_type": "code",
      "source": [],
      "metadata": {
        "id": "DO2ubP9N9D_2"
      },
      "execution_count": null,
      "outputs": []
    },
    {
      "cell_type": "markdown",
      "source": [
        "Las listas son organizadas en Python porque **cada elemento de la lista tiene un índice que indica su posición al interior de la lista**. Los índices comienzan en 0 van hasta el tamaño de la lista menos 1."
      ],
      "metadata": {
        "id": "qUz3sJNl6LgK"
      }
    },
    {
      "cell_type": "markdown",
      "source": [
        "Tenemos entonces 5 elementos con índices que varían de 0 a 4, ordenadamente:\n",
        "\n",
        "```\n",
        "#             [0]           [1]   [2]   [3]    [4]\n",
        "lista = ['Penélope Camacho', 9.5 , 9.0 , 9.7 , True]\n",
        "```\n",
        "\n",
        "En Python tenemos también los índices **negativos** que se inician en el último elemento con el valor de `-1` y avanzan en el universo de los negativos hasta llegar al 1° elemento:\n",
        "\n",
        "```\n",
        "#             [-5]         [-4]  [-3]  [-2]   [-1]\n",
        "lista = ['Penélope Camacho', 9.5 , 9.0 , 9.7 , True]\n",
        "```\n",
        "\n",
        "Logramos seleccionar separadamente cada elemento a través de sus respectivos índices. Colocando el nombre de la lista y en seguida el índice que será seleccionado."
      ],
      "metadata": {
        "id": "rLf-Qg526hFD"
      }
    },
    {
      "cell_type": "code",
      "source": [],
      "metadata": {
        "id": "4hco1Zqy88Kw"
      },
      "execution_count": null,
      "outputs": []
    },
    {
      "cell_type": "code",
      "source": [],
      "metadata": {
        "id": "M8lH0I2288Ph"
      },
      "execution_count": null,
      "outputs": []
    },
    {
      "cell_type": "markdown",
      "source": [
        "Una forma más dinámica de trabajar item a item en una lista es utilizando un lazo `for` para leer un elemento a la vez."
      ],
      "metadata": {
        "id": "6TaE1ijmBTCd"
      }
    },
    {
      "cell_type": "code",
      "source": [],
      "metadata": {
        "id": "rBx4Yu1786Sy"
      },
      "execution_count": null,
      "outputs": []
    },
    {
      "cell_type": "markdown",
      "source": [
        "**Situación**: La nota `9.0` de Penélope necesita ser ajustada pues ganó 1 punto en su última nota por participación en clase. Entonces es necesario realizar un cambio en el índice `2` de `9.0` a `10.0`."
      ],
      "metadata": {
        "id": "Dh1_HnIVvucY"
      }
    },
    {
      "cell_type": "code",
      "source": [],
      "metadata": {
        "id": "bVPoZg668z3T"
      },
      "execution_count": null,
      "outputs": []
    },
    {
      "cell_type": "code",
      "source": [],
      "metadata": {
        "id": "Jo_PBQ0g8z7D"
      },
      "execution_count": null,
      "outputs": []
    },
    {
      "cell_type": "markdown",
      "source": [
        "También podemos calcular el promedio del estudiante a partir de los datos que tenemos."
      ],
      "metadata": {
        "id": "53XduzXkycAf"
      }
    },
    {
      "cell_type": "code",
      "source": [],
      "metadata": {
        "id": "SIH61Rrb8yv4"
      },
      "execution_count": null,
      "outputs": []
    },
    {
      "cell_type": "markdown",
      "source": [
        "## Manipulación de listas\n",
        "\n",
        "Las listas son muy útiles en Python porque nos permiten almacenar y acceder a una colección de items de manera organizada y rápida. Estas también ofrecen muchos métodos útiles para manipular los itens almacenados, como adicionar, remover, clasificar y buscar elementos."
      ],
      "metadata": {
        "id": "d-iYr10-y4qw"
      }
    },
    {
      "cell_type": "markdown",
      "source": [
        "#### Cantidad de elementos\n",
        "\n",
        "Usamos la función [`len()`](https://docs.python.org/3/library/functions.html#len) para descubrir la cantidad de elementos de un conjunto."
      ],
      "metadata": {
        "id": "ZLqx9A97XVB_"
      }
    },
    {
      "cell_type": "code",
      "source": [],
      "metadata": {
        "id": "6q1Tmm7P8wQf"
      },
      "execution_count": null,
      "outputs": []
    },
    {
      "cell_type": "markdown",
      "source": [
        "#### Partición\n",
        "\n",
        "La partición de listas por indexación en Python es una técnica muy útil para seleccionar un subconjunto de elementos de una lista. Esta se realiza usando la sintaxis `lista[inicio:fin]`, donde `inicio` es el índice del primer elemento que será incluído en la partición `fin` es el índice del primer elemento que será excluído de la partición."
      ],
      "metadata": {
        "id": "Z5tpstlHJss3"
      }
    },
    {
      "cell_type": "code",
      "source": [],
      "metadata": {
        "id": "NctvJTTU8uV9"
      },
      "execution_count": null,
      "outputs": []
    },
    {
      "cell_type": "code",
      "source": [],
      "metadata": {
        "id": "bQZUwldj8uY2"
      },
      "execution_count": null,
      "outputs": []
    },
    {
      "cell_type": "markdown",
      "source": [
        "#### [`append()`](https://docs.python.org/3/tutorial/datastructures.html#:~:text=of%20list%20objects%3A-,list.append(x),-Add%20an%20item)\n",
        "\n",
        "Añade un elemento al final de la lista."
      ],
      "metadata": {
        "id": "O0RRyabkRzZC"
      }
    },
    {
      "cell_type": "code",
      "source": [],
      "metadata": {
        "id": "_Q0oODwa8spC"
      },
      "execution_count": null,
      "outputs": []
    },
    {
      "cell_type": "code",
      "source": [],
      "metadata": {
        "id": "RM894r2M8sse"
      },
      "execution_count": null,
      "outputs": []
    },
    {
      "cell_type": "markdown",
      "source": [
        "#### [`extend()`](https://docs.python.org/3/tutorial/datastructures.html#:~:text=list.extend(iterable))\n",
        "\n",
        "Añade varios elementos al final de la lista.\n",
        "\n",
        "Añadiremos las notas `[10.0,8.0,9.0]` En la lista de Penélope Camacho."
      ],
      "metadata": {
        "id": "uQV91XMsUOJD"
      }
    },
    {
      "cell_type": "code",
      "source": [],
      "metadata": {
        "id": "6Zk2MpMw8rQc"
      },
      "execution_count": null,
      "outputs": []
    },
    {
      "cell_type": "code",
      "source": [],
      "metadata": {
        "id": "NnoKkoWb8rTQ"
      },
      "execution_count": null,
      "outputs": []
    },
    {
      "cell_type": "markdown",
      "source": [
        "*A continuación te mostraremos lo que no puede realizarse con* `append`."
      ],
      "metadata": {
        "id": "IVJvkTwNUk6M"
      }
    },
    {
      "cell_type": "code",
      "source": [],
      "metadata": {
        "id": "u3Eub2ZL8pp3"
      },
      "execution_count": null,
      "outputs": []
    },
    {
      "cell_type": "code",
      "source": [],
      "metadata": {
        "id": "tsKK5Ne58pvN"
      },
      "execution_count": null,
      "outputs": []
    },
    {
      "cell_type": "markdown",
      "source": [
        "#### [`remove()`](https://docs.python.org/3/tutorial/datastructures.html#:~:text=append(x).-,list.remove(x),-Remove%20the%20first)\n",
        "\n",
        "Remueve un elemento específico de la lista."
      ],
      "metadata": {
        "id": "dPGM5gpyUX1z"
      }
    },
    {
      "cell_type": "code",
      "source": [],
      "metadata": {
        "id": "mmboODPc8nd5"
      },
      "execution_count": null,
      "outputs": []
    },
    {
      "cell_type": "code",
      "source": [],
      "metadata": {
        "id": "T_w6vVgV8nh_"
      },
      "execution_count": null,
      "outputs": []
    },
    {
      "cell_type": "markdown",
      "source": [
        "## Diccionario"
      ],
      "metadata": {
        "id": "Rc22Vc08YDZ2"
      }
    },
    {
      "cell_type": "markdown",
      "source": [
        "Los diccionarios son un tipo de estructura de datos que almacenan pares de *llave-valor*. Estos son delimitados por llaves `{}` y los pares *llave-valor* son separados por comas.\n",
        "\n",
        "```\n",
        "diccionario = {llave: valor}\n",
        "```\n",
        "\n",
        "La **llave** es un elemento único que identifica a un valor en el diccionario, mientras que el **valor** es el item que será almacenado para la llave. Las llaves y sus respectivos valores se pueden emplear para **cualquier tipo de dato**.\n",
        "\n",
        "Los diccionarios son útiles para almacenar y acceder a los datos de manera organizada y rápida. Se trata de un tipo de conjunto de elementos en Python, pues almacenan una colección de items."
      ],
      "metadata": {
        "id": "PJ-cCKPjeWxL"
      }
    },
    {
      "cell_type": "code",
      "source": [],
      "metadata": {
        "id": "NDHhzooE8ld5"
      },
      "execution_count": null,
      "outputs": []
    },
    {
      "cell_type": "code",
      "source": [],
      "metadata": {
        "id": "AVOzqzy-8lhh"
      },
      "execution_count": null,
      "outputs": []
    },
    {
      "cell_type": "markdown",
      "source": [
        "---\n",
        "**Situación:**\n",
        "\n",
        "Vamos a crear un conjunto de datos con las informaciones de matrícula de un estudiante. Los datos son los siguientes:\n",
        "\n",
        "- matrícula: 2000168933\n",
        "- día de registro: 25\n",
        "- mes de registro: 10\n",
        "- grupo: 2E"
      ],
      "metadata": {
        "id": "_JbQ3KMKfkXU"
      }
    },
    {
      "cell_type": "code",
      "source": [],
      "metadata": {
        "id": "0lfOu_c38jED"
      },
      "execution_count": null,
      "outputs": []
    },
    {
      "cell_type": "code",
      "source": [],
      "metadata": {
        "id": "XIuqpTTy8jHV"
      },
      "execution_count": null,
      "outputs": []
    },
    {
      "cell_type": "markdown",
      "source": [
        "Es posible sustituir los valores dentro de una llave. Por ejemplo, recibimos la información de que el grupo del estudiante que registramos cambio a `'2G'` y ahora necesitamos cambiar el valor de la llave `'grupo'`."
      ],
      "metadata": {
        "id": "8ex5pt2ykDd2"
      }
    },
    {
      "cell_type": "code",
      "source": [],
      "metadata": {
        "id": "kQGlp36b8fyP"
      },
      "execution_count": null,
      "outputs": []
    },
    {
      "cell_type": "code",
      "source": [],
      "metadata": {
        "id": "DnfH_qHi8f17"
      },
      "execution_count": null,
      "outputs": []
    },
    {
      "cell_type": "markdown",
      "source": [
        "También podemos añadir otros datos al diccionario. Vamos a añadir la información sobre la modalidad de estudio, nuestro estudiante estudiará inicialemente en la modalidad EAD.\n",
        "\n",
        "Definiremos una llave llamada `'modalidad'` con el valor `'EAD'`."
      ],
      "metadata": {
        "id": "wB0qRb56mQvv"
      }
    },
    {
      "cell_type": "code",
      "source": [],
      "metadata": {
        "id": "EeLYdlIm8d8a"
      },
      "execution_count": null,
      "outputs": []
    },
    {
      "cell_type": "code",
      "source": [],
      "metadata": {
        "id": "olDIavsm8d_o"
      },
      "execution_count": null,
      "outputs": []
    },
    {
      "cell_type": "markdown",
      "source": [
        "## Profundizando en diccionarios"
      ],
      "metadata": {
        "id": "LJ3o_inroxg_"
      }
    },
    {
      "cell_type": "markdown",
      "source": [
        "#### [`pop()`](https://python-reference.readthedocs.io/en/latest/docs/dict/pop.html)\n",
        "Remueve un item de un diccionario y lo representa en la salida."
      ],
      "metadata": {
        "id": "2N3GLlkSpBiu"
      }
    },
    {
      "cell_type": "code",
      "source": [],
      "metadata": {
        "id": "ZsSCZx6G8b-T"
      },
      "execution_count": null,
      "outputs": []
    },
    {
      "cell_type": "code",
      "source": [],
      "metadata": {
        "id": "7lQ8_jpi8cBR"
      },
      "execution_count": null,
      "outputs": []
    },
    {
      "cell_type": "markdown",
      "source": [
        "#### [`items()`](https://python-reference.readthedocs.io/en/latest/docs/dict/items.html)\n",
        "Retorna una lista de pares `llave-valor` del diccionario."
      ],
      "metadata": {
        "id": "sYZGvJJYrW_y"
      }
    },
    {
      "cell_type": "code",
      "source": [],
      "metadata": {
        "id": "ncdycLV08an7"
      },
      "execution_count": null,
      "outputs": []
    },
    {
      "cell_type": "markdown",
      "source": [
        "#### [`keys()`](https://python-reference.readthedocs.io/en/latest/docs/dict/keys.html)\n",
        "Retorna una lista de las llaves del diccionario."
      ],
      "metadata": {
        "id": "Lb0utNFGrZBY"
      }
    },
    {
      "cell_type": "code",
      "source": [],
      "metadata": {
        "id": "eZo0biaM8ZVs"
      },
      "execution_count": null,
      "outputs": []
    },
    {
      "cell_type": "markdown",
      "source": [
        "#### [`values()`](https://python-reference.readthedocs.io/en/latest/docs/dict/values.html)\n",
        "Retorna una lista de los valores del diccionario."
      ],
      "metadata": {
        "id": "qKyu3bf9rbtX"
      }
    },
    {
      "cell_type": "code",
      "source": [],
      "metadata": {
        "id": "-NxRT9C18Yvo"
      },
      "execution_count": null,
      "outputs": []
    },
    {
      "cell_type": "markdown",
      "source": [
        "### Lectura de valores con el lazo `for`"
      ],
      "metadata": {
        "id": "e3XVjR8Frp75"
      }
    },
    {
      "cell_type": "code",
      "source": [],
      "metadata": {
        "id": "NYcjU-Ip8Xan"
      },
      "execution_count": null,
      "outputs": []
    },
    {
      "cell_type": "code",
      "source": [],
      "metadata": {
        "id": "aAnpP1Wv8XfJ"
      },
      "execution_count": null,
      "outputs": []
    },
    {
      "cell_type": "code",
      "source": [],
      "metadata": {
        "id": "uLrRcG9ttFLF"
      },
      "execution_count": null,
      "outputs": []
    },
    {
      "cell_type": "markdown",
      "source": [
        "** desafio es hora de practicar **\n"
      ],
      "metadata": {
        "id": "pYFvD4EmtGTg"
      }
    },
    {
      "cell_type": "code",
      "source": [
        "lista = [2172.54, 3701.35, 3518.09, 3456.61, 3249.38, 2840.82, 3891.45, 3075.26, 2317.64, 3219.08]\n",
        "\n",
        "suma = sum(lista)\n",
        "largo = len(lista)\n",
        "\n",
        "promedio = suma / largo\n",
        "print (f\"el promedio de la lista es: {promedio}\")"
      ],
      "metadata": {
        "colab": {
          "base_uri": "https://localhost:8080/"
        },
        "id": "lsk2PVzXtK06",
        "outputId": "5775471a-1e32-414b-9ab7-eb1ceafae963"
      },
      "execution_count": null,
      "outputs": [
        {
          "output_type": "stream",
          "name": "stdout",
          "text": [
            "el promedio de la lista es: 3144.222\n"
          ]
        }
      ]
    },
    {
      "cell_type": "code",
      "source": [
        "suma_alta = 0\n",
        "suma_alta_lista = []\n",
        "\n",
        "for i in lista:\n",
        "  if i > 3000:\n",
        "    suma_alta_lista.append(i)\n",
        "    suma_alta += i\n",
        "suma_promedio = len(suma_alta_lista)\n",
        "\n",
        "promedio_alto = 100* (suma_promedio / largo)\n",
        "print (f\"el porcentaje con respecto al total de ventas es: {promedio_alto}\")"
      ],
      "metadata": {
        "colab": {
          "base_uri": "https://localhost:8080/"
        },
        "id": "cTGd50vPt5mK",
        "outputId": "a045e257-3d48-4fd2-a331-38bb5de40b6d"
      },
      "execution_count": null,
      "outputs": [
        {
          "output_type": "stream",
          "name": "stdout",
          "text": [
            "el porcentaje con respecto al total de ventas es: 70.0\n"
          ]
        }
      ]
    },
    {
      "cell_type": "code",
      "source": [
        "import random\n",
        "lista = []\n",
        "i=5\n",
        "for x in range(1, i+1):\n",
        "  num = random.randint(0, 100)\n",
        "  lista.append(num)\n",
        "print(lista)\n",
        "\n"
      ],
      "metadata": {
        "colab": {
          "base_uri": "https://localhost:8080/"
        },
        "id": "pCDkceUo5oh-",
        "outputId": "80740aba-683f-4ecb-a03c-272f8a9977d5"
      },
      "execution_count": null,
      "outputs": [
        {
          "output_type": "stream",
          "name": "stdout",
          "text": [
            "[52, 30, 89, 50, 97]\n"
          ]
        }
      ]
    },
    {
      "cell_type": "code",
      "source": [
        "lista_inv = []\n",
        "for x in range (len(lista)-1, -1 , -1):\n",
        "  lista_inv.append(lista[x])\n",
        "print(lista_inv)"
      ],
      "metadata": {
        "colab": {
          "base_uri": "https://localhost:8080/"
        },
        "id": "fFdG9eLRMmBu",
        "outputId": "9a9e12aa-8ae7-4d71-b0db-2dde90fb012b"
      },
      "execution_count": null,
      "outputs": [
        {
          "output_type": "stream",
          "name": "stdout",
          "text": [
            "[97, 50, 89, 30, 52]\n"
          ]
        }
      ]
    },
    {
      "cell_type": "code",
      "source": [
        "num = int(input(\"Ingresa un número entero: \"))\n",
        "lista_primo = []\n",
        "if num <= 1:\n",
        "    print(\"No hay numeros primos.\")\n",
        "else:\n",
        "  for x in range(2, num):\n",
        "    print(x)\n",
        "    es_primo = True\n",
        "    for i in range(2, int(x ** 0.5) + 1):\n",
        "        print(f'bucle {i}')\n",
        "        if x % i == 0:\n",
        "            es_primo = False\n",
        "            print(f'no agrega {i}')\n",
        "            break\n",
        "    else:\n",
        "      print('agrega')\n",
        "      lista_primo.append(x)\n",
        "\n",
        "  print(lista_primo)"
      ],
      "metadata": {
        "colab": {
          "base_uri": "https://localhost:8080/"
        },
        "id": "hKCPcUE4OwQ6",
        "outputId": "9215eb0e-9d66-42dd-baec-6a0b81b75452"
      },
      "execution_count": null,
      "outputs": [
        {
          "output_type": "stream",
          "name": "stdout",
          "text": [
            "Ingresa un número entero: 10\n",
            "2\n",
            "agrega\n",
            "3\n",
            "agrega\n",
            "4\n",
            "bucle 2\n",
            "no agrega 2\n",
            "5\n",
            "bucle 2\n",
            "agrega\n",
            "6\n",
            "bucle 2\n",
            "no agrega 2\n",
            "7\n",
            "bucle 2\n",
            "agrega\n",
            "8\n",
            "bucle 2\n",
            "no agrega 2\n",
            "9\n",
            "bucle 2\n",
            "bucle 3\n",
            "no agrega 3\n",
            "[2, 3, 5, 7]\n"
          ]
        }
      ]
    },
    {
      "cell_type": "code",
      "source": [
        "num = 9\n",
        "lista_p = []\n",
        "for n in range(2, num+1):\n",
        "    divisores = range(2, int(n**0.5)+1)\n",
        "    condiciones = [f\"{n}%{i}={n%i}\" for i in divisores]\n",
        "    print(f\"n={n}: Verifica {list(divisores)} → Condiciones: {condiciones}\")\n",
        "    if all(n % i != 0 for i in divisores):\n",
        "        lista_p.append(n)\n",
        "        print(f\"→ {n} ES PRIMO, {lista_p}\")"
      ],
      "metadata": {
        "colab": {
          "base_uri": "https://localhost:8080/"
        },
        "id": "v2racd0XeQvu",
        "outputId": "618b534c-3ae2-4ecf-9aa5-72474249beab"
      },
      "execution_count": null,
      "outputs": [
        {
          "output_type": "stream",
          "name": "stdout",
          "text": [
            "n=2: Verifica [] → Condiciones: []\n",
            "→ 2 ES PRIMO, [2]\n",
            "n=3: Verifica [] → Condiciones: []\n",
            "→ 3 ES PRIMO, [2, 3]\n",
            "n=4: Verifica [2] → Condiciones: ['4%2=0']\n",
            "n=5: Verifica [2] → Condiciones: ['5%2=1']\n",
            "→ 5 ES PRIMO, [2, 3, 5]\n",
            "n=6: Verifica [2] → Condiciones: ['6%2=0']\n",
            "n=7: Verifica [2] → Condiciones: ['7%2=1']\n",
            "→ 7 ES PRIMO, [2, 3, 5, 7]\n",
            "n=8: Verifica [2] → Condiciones: ['8%2=0']\n",
            "n=9: Verifica [2, 3] → Condiciones: ['9%2=1', '9%3=0']\n"
          ]
        }
      ]
    },
    {
      "cell_type": "code",
      "source": [
        "año = int(input(\"ingresa un año (AAAA)\"))\n",
        "mes = int(input(\"ingresa un mes (MM)\"))\n",
        "dia = int(input(\"ingresa un dia (DD)\"))\n",
        "\n",
        "if año < 0:\n",
        "  print (\"el año no puede ser negativo\")\n",
        "else:\n",
        "\n",
        "  if mes < 1 or mes > 12:\n",
        "    print(\" el mes no es valido\")\n",
        "  else:\n",
        "    if mes == 4 or mes == 6 or mes == 9 or mes == 11:\n",
        "      if dia < 1 or dia > 30:\n",
        "        print(\" el dia no es valido, este mes tiene 30 dias\")\n",
        "    elif mes == 2:\n",
        "        if año % 400 == 0 or (año % 4 == 0 and año % 100 !=0):\n",
        "            if dia < 1 or dia > 29:\n",
        "                    print(\"El día no es válido, febrero en año bisiesto tiene 29 días\")\n",
        "            else:\n",
        "                if dia < 1 or dia > 28:\n",
        "                    print(\"El día no es válido, febrero tiene 28 días\")\n",
        "    else:\n",
        "            if dia < 1 or dia > 31:\n",
        "                print(\"El día no es válido, este mes tiene 31 días\")\n",
        "print(f\"La fecha {dia}/{mes}/{año} es válida\")\n",
        "\n"
      ],
      "metadata": {
        "colab": {
          "base_uri": "https://localhost:8080/"
        },
        "id": "SqYSoIZSf7it",
        "outputId": "ab51a525-79cc-4f4e-bc1d-2d03fcb128cd"
      },
      "execution_count": null,
      "outputs": [
        {
          "output_type": "stream",
          "name": "stdout",
          "text": [
            "ingresa un año (AAAA)2333\n",
            "ingresa un mes (MM)13\n",
            "ingresa un dia (DD)12\n",
            " el mes no es valido\n",
            "La fecha 12/13/2333 es válida\n"
          ]
        }
      ]
    },
    {
      "cell_type": "code",
      "source": [
        "muestra = [1.2, 2.1, 3.3, 5.0, 7.8, 11.3, 16.6, 25.1, 37.8, 56.9]\n",
        "x=0\n",
        "tamaño_muestra = len(muestra)\n",
        "print(tamaño_muestra)\n",
        "\n",
        "for x in range(0, tamaño_muestra-1):\n",
        "  actual = muestra[x+1]\n",
        "  anterior = muestra[x]\n",
        "  crecimiento = 100* (actual - anterior)/anterior\n",
        "  print(f\"el crecimiento del dia {x+1}, es: {crecimiento:.2f} %\")\n",
        "\n"
      ],
      "metadata": {
        "colab": {
          "base_uri": "https://localhost:8080/"
        },
        "id": "wVG1gKBAniTH",
        "outputId": "12ac58c6-97ef-4532-e0d3-0b75b23d4138"
      },
      "execution_count": null,
      "outputs": [
        {
          "output_type": "stream",
          "name": "stdout",
          "text": [
            "10\n",
            "el crecimiento del dia 1, es: 75.00 %\n",
            "el crecimiento del dia 2, es: 57.14 %\n",
            "el crecimiento del dia 3, es: 51.52 %\n",
            "el crecimiento del dia 4, es: 56.00 %\n",
            "el crecimiento del dia 5, es: 44.87 %\n",
            "el crecimiento del dia 6, es: 46.90 %\n",
            "el crecimiento del dia 7, es: 51.20 %\n",
            "el crecimiento del dia 8, es: 50.60 %\n",
            "el crecimiento del dia 9, es: 50.53 %\n"
          ]
        }
      ]
    },
    {
      "cell_type": "code",
      "source": [
        "muestra = 0\n",
        "dulce = []\n",
        "amargo = []\n",
        "while muestra < 10:\n",
        "  muestra += 1\n",
        "  id_producto= int(input(f\"ingrese el id {muestra} de alimento: \"))\n",
        "  if id_producto % 2 == 0 :\n",
        "    print(f\"el producto {muestra} es dulce\")\n",
        "    dulce.append(id)\n",
        "  else:\n",
        "    print(f\"el producto {muestra} es amargo\")\n",
        "    amargo.append(id)\n",
        "len_dulce = len(dulce)\n",
        "len_amargo = len(amargo)\n",
        "\n",
        "print(f\"la cantidad de productos dulces son {len_dulce}, \\ny la cantidad de productos amargos son: {len_amargo}\")"
      ],
      "metadata": {
        "colab": {
          "base_uri": "https://localhost:8080/"
        },
        "id": "K5IxF52Sudlf",
        "outputId": "cac596ed-4ce8-4524-9c5f-6290ad5fb9ac"
      },
      "execution_count": null,
      "outputs": [
        {
          "output_type": "stream",
          "name": "stdout",
          "text": [
            "ingrese el id 1 de alimento: 1\n",
            "el producto 1 es amargo\n",
            "ingrese el id 2 de alimento: 1\n",
            "el producto 2 es amargo\n",
            "ingrese el id 3 de alimento: 1\n",
            "el producto 3 es amargo\n",
            "ingrese el id 4 de alimento: 1\n",
            "el producto 4 es amargo\n",
            "ingrese el id 5 de alimento: 1\n",
            "el producto 5 es amargo\n",
            "ingrese el id 6 de alimento: 1\n",
            "el producto 6 es amargo\n",
            "ingrese el id 7 de alimento: 1\n",
            "el producto 7 es amargo\n",
            "ingrese el id 8 de alimento: 1\n",
            "el producto 8 es amargo\n",
            "ingrese el id 9 de alimento: 1\n",
            "el producto 9 es amargo\n",
            "ingrese el id 10 de alimento: 1\n",
            "el producto 10 es amargo\n",
            "la cantidad de productos dulces son 0, \n",
            "y la cantidad de productos amargos son: 10\n"
          ]
        }
      ]
    },
    {
      "cell_type": "code",
      "source": [
        "\n"
      ],
      "metadata": {
        "id": "xCRoIPXl8G_3"
      },
      "execution_count": null,
      "outputs": []
    },
    {
      "cell_type": "code",
      "source": [
        "examen = []\n",
        "preguntas = 10\n",
        "correctas = [\"d\", \"a\", \"c\", \"b\", \"a\", \"d\", \"c\", \"c\", \"a\", \"b\"]\n",
        "\n",
        "\n",
        "\n",
        "for x in range(preguntas):\n",
        "    while True:\n",
        "      respuesta = input(f\"ingrese la respuesta de la pregunta {x+1} => (A,B,C ó D): \").lower()\n",
        "      if respuesta in [\"a\", \"b\", \"c\", \"d\"]:\n",
        "        examen.append(respuesta)\n",
        "        break\n",
        "      else:\n",
        "        print(\"Error: ingresa solo (A, B, C ó D)\")\n",
        "\n",
        "aciertos = sum(1 for a, b in zip(correctas, examen) if a == b)\n",
        "\n",
        "print(f\"tus respuestas: {examen}\")\n",
        "\n",
        "print(f\"Respuestas correctas: {correctas}\")\n",
        "print(f\"Aciertos: {aciertos}/{preguntas}\")\n",
        "\n",
        "\n"
      ],
      "metadata": {
        "colab": {
          "base_uri": "https://localhost:8080/"
        },
        "id": "kA9WlcG3HkFp",
        "outputId": "729ec7b0-3bbe-4e1d-d9d8-337cf29dc2a5"
      },
      "execution_count": null,
      "outputs": [
        {
          "output_type": "stream",
          "name": "stdout",
          "text": [
            "ingrese la respuesta de la pregunta 1 => (A,B,C ó D): s\n",
            "Error: ingresa solo (A, B, C ó D)\n",
            "ingrese la respuesta de la pregunta 1 => (A,B,C ó D): s\n",
            "Error: ingresa solo (A, B, C ó D)\n",
            "ingrese la respuesta de la pregunta 1 => (A,B,C ó D): a\n",
            "ingrese la respuesta de la pregunta 2 => (A,B,C ó D): B\n",
            "ingrese la respuesta de la pregunta 3 => (A,B,C ó D): C\n",
            "ingrese la respuesta de la pregunta 4 => (A,B,C ó D): D\n",
            "ingrese la respuesta de la pregunta 5 => (A,B,C ó D): a\n",
            "ingrese la respuesta de la pregunta 6 => (A,B,C ó D): b\n",
            "ingrese la respuesta de la pregunta 7 => (A,B,C ó D): c\n",
            "ingrese la respuesta de la pregunta 8 => (A,B,C ó D): b\n",
            "ingrese la respuesta de la pregunta 9 => (A,B,C ó D): a\n",
            "ingrese la respuesta de la pregunta 10 => (A,B,C ó D): d\n",
            "tus respuestas: ['a', 'b', 'c', 'd', 'a', 'b', 'c', 'b', 'a', 'd']\n",
            "Respuestas correctas: ['d', 'a', 'c', 'b', 'a', 'd', 'c', 'c', 'a', 'b']\n",
            "Aciertos: 4/10\n"
          ]
        }
      ]
    },
    {
      "cell_type": "code",
      "source": [
        "temp_media_meses = []\n",
        "temp_alta_meses = []\n",
        "meses = [\"enero\", \"febrero\", \"marzo\", \"abril\", \"mayo\", \"junio\", \"julio\", \"agosto\", \"septiembre\", \"octubre\", \"noviembre\", \"diciembre\"]\n",
        "for x in range(12+1):\n",
        "  temp_media_mes = float(input(f\"ingrese la temperatura promedio del mes: {meses[x]}: \"))\n",
        "  temp_media_meses.append(temp_media_mes)\n",
        "#  print(f\"la temperatura promedio para el mes {meses[x]} fue: {temp_media_mes}\")\n",
        "  x +=1\n",
        "  if x == 3:\n",
        "    promedio = sum(temp_media_meses)/len(temp_media_meses)\n",
        "    print(f\"meses = {meses} \\ntemperatura= {temp_media_meses}\")\n",
        "    print(f\"el promedio de temperatura anual es: {promedio:.2f}\")\n",
        "    for i in temp_media_meses:\n",
        "      if i > promedio:\n",
        "        temp_alta_meses.append(i)\n",
        "  print(temp_alta_meses)\n",
        "\n",
        "\n"
      ],
      "metadata": {
        "colab": {
          "base_uri": "https://localhost:8080/",
          "height": 349
        },
        "id": "OT3SfRkBhqVX",
        "outputId": "907201d3-cadf-4930-acdb-67c392f7e66d"
      },
      "execution_count": 19,
      "outputs": [
        {
          "output_type": "stream",
          "name": "stdout",
          "text": [
            "ingrese la temperatura promedio del mes: enero: 12\n",
            "[]\n",
            "ingrese la temperatura promedio del mes: febrero: 13\n",
            "[]\n",
            "ingrese la temperatura promedio del mes: marzo: 14\n",
            "meses = ['enero', 'febrero', 'marzo', 'abril', 'mayo', 'junio', 'julio', 'agosto', 'septiembre', 'octubre', 'noviembre', 'diciembre'] \n",
            "temperatura= [12.0, 13.0, 14.0]\n",
            "el promedio de temperatura anual es: 13.00\n"
          ]
        },
        {
          "output_type": "error",
          "ename": "TypeError",
          "evalue": "list indices must be integers or slices, not float",
          "traceback": [
            "\u001b[0;31m---------------------------------------------------------------------------\u001b[0m",
            "\u001b[0;31mTypeError\u001b[0m                                 Traceback (most recent call last)",
            "\u001b[0;32m<ipython-input-19-d1d288d117f6>\u001b[0m in \u001b[0;36m<cell line: 0>\u001b[0;34m()\u001b[0m\n\u001b[1;32m     15\u001b[0m \u001b[0;34m\u001b[0m\u001b[0m\n\u001b[1;32m     16\u001b[0m         \u001b[0mtemp_alta_meses\u001b[0m\u001b[0;34m.\u001b[0m\u001b[0mappend\u001b[0m\u001b[0;34m(\u001b[0m\u001b[0mi\u001b[0m\u001b[0;34m)\u001b[0m\u001b[0;34m\u001b[0m\u001b[0;34m\u001b[0m\u001b[0m\n\u001b[0;32m---> 17\u001b[0;31m         \u001b[0mtemp_alta_meses\u001b[0m\u001b[0;34m.\u001b[0m\u001b[0mappend\u001b[0m\u001b[0;34m(\u001b[0m\u001b[0mmeses\u001b[0m\u001b[0;34m[\u001b[0m\u001b[0mi\u001b[0m\u001b[0;34m]\u001b[0m\u001b[0;34m)\u001b[0m\u001b[0;34m\u001b[0m\u001b[0;34m\u001b[0m\u001b[0m\n\u001b[0m\u001b[1;32m     18\u001b[0m   \u001b[0mprint\u001b[0m\u001b[0;34m(\u001b[0m\u001b[0mtemp_alta_meses\u001b[0m\u001b[0;34m)\u001b[0m\u001b[0;34m\u001b[0m\u001b[0;34m\u001b[0m\u001b[0m\n\u001b[1;32m     19\u001b[0m \u001b[0;34m\u001b[0m\u001b[0m\n",
            "\u001b[0;31mTypeError\u001b[0m: list indices must be integers or slices, not float"
          ]
        }
      ]
    }
  ]
}